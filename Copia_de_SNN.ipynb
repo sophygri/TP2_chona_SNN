{
  "nbformat": 4,
  "nbformat_minor": 0,
  "metadata": {
    "colab": {
      "provenance": []
    },
    "kernelspec": {
      "name": "python3",
      "display_name": "Python 3"
    },
    "language_info": {
      "name": "python"
    }
  },
  "cells": [
    {
      "cell_type": "markdown",
      "source": [
        "# Simple Neural Network\n",
        "\n",
        "Simple Red Neuronal (Perceptrón) para la materia Tecnologías Exponenciales - TIC\n",
        "\n",
        "Inspirado en https://github.com/jonasbostoen/simple-neural-network"
      ],
      "metadata": {
        "id": "E5MvfaYmnfke"
      }
    },
    {
      "cell_type": "markdown",
      "source": [
        "Entradas: Personajes animados - Chistes - Muerte - Tension - Amor - Miedo - Extraterrestres - Armas - Personajes realistas\n",
        "\n",
        "Salidas: accion, comedia, drama, ciencia ficción, terror, romance"
      ],
      "metadata": {
        "id": "lhE592VLIzUr"
      }
    },
    {
      "cell_type": "markdown",
      "source": [
        "### Librerias"
      ],
      "metadata": {
        "id": "WYr3ptD1nklQ"
      }
    },
    {
      "cell_type": "code",
      "execution_count": null,
      "metadata": {
        "id": "ZLJi7O0hCEn3"
      },
      "outputs": [],
      "source": [
        "import numpy as np\n",
        "import pandas as pd\n",
        "import matplotlib.pyplot as plt\n",
        "from IPython.display import HTML, display\n",
        "import tabulate\n",
        "import networkx as nx\n",
        "from random import random as rand\n",
        "import itertools"
      ]
    },
    {
      "cell_type": "code",
      "source": [
        "np.random.seed(1)"
      ],
      "metadata": {
        "id": "lUUgSMF_CM5m"
      },
      "execution_count": null,
      "outputs": []
    },
    {
      "cell_type": "markdown",
      "source": [
        "### Funciones"
      ],
      "metadata": {
        "id": "b8-iBQcXnmQz"
      }
    },
    {
      "cell_type": "code",
      "source": [
        "def sigmoid(x):\n",
        "    return 1 / ( 1 + np.exp(-x) )\n",
        "\n",
        "# sigmoid = lambda x : 1 / ( 1 + np.exp(-x) )\n",
        "\n",
        "def sigmoid_derivative(x):\n",
        "    return x * (1 - x)\n",
        "\n",
        "# sigmoid_derivative = lambda x : x * (1 - x)"
      ],
      "metadata": {
        "id": "d-ylyCurCJpi"
      },
      "execution_count": null,
      "outputs": []
    },
    {
      "cell_type": "code",
      "source": [],
      "metadata": {
        "id": "LKAheGn_Lwjx"
      },
      "execution_count": null,
      "outputs": []
    },
    {
      "cell_type": "markdown",
      "source": [
        "\n",
        "Sigmoid Function\n",
        "$$\\operatorname{f}(x)=\\frac{1}{1+e^{(-x)}}$$\n",
        "\n",
        "Sigmoid Derivative Function\n",
        "$$\\operatorname{f'}(x)=x \\times (1-x)$$"
      ],
      "metadata": {
        "id": "R5ycxQ3TFT8S"
      }
    },
    {
      "cell_type": "markdown",
      "source": [
        "#### Visualización Función Sigmoide"
      ],
      "metadata": {
        "id": "Q0ikk-Oyno28"
      }
    },
    {
      "cell_type": "code",
      "source": [
        "x = np.linspace(-5,5,100)\n",
        "y = sigmoid(x)\n",
        "fig = plt.figure()\n",
        "ax = fig.add_subplot(1, 1, 1)\n",
        "\n",
        "# Move left y-axis and bottim x-axis to centre, passing through (0,0)\n",
        "ax.spines['left'].set_position('center')\n",
        "\n",
        "# Eliminate upper and right axes\n",
        "ax.spines['right'].set_color('none')\n",
        "ax.spines['top'].set_color('none')\n",
        "\n",
        "plt.plot(x, y)\n",
        "plt.locator_params(axis='y', nbins=3)\n",
        "plt.yticks(fontsize=18)\n",
        "plt.xticks(fontsize=18)\n",
        "plt.grid()"
      ],
      "metadata": {
        "colab": {
          "base_uri": "https://localhost:8080/",
          "height": 440
        },
        "id": "_T8o08_KGUpQ",
        "outputId": "4f1798c3-bf21-44ba-d0c6-74dd7a3f8fdf"
      },
      "execution_count": null,
      "outputs": [
        {
          "output_type": "display_data",
          "data": {
            "text/plain": [
              "<Figure size 640x480 with 1 Axes>"
            ],
            "image/png": "[encoded data removed]"
          },
          "metadata": {}
        }
      ]
    },
    {
      "cell_type": "markdown",
      "source": [
        "## Setup"
      ],
      "metadata": {
        "id": "Lt58rBeCoBqX"
      }
    },
    {
      "cell_type": "markdown",
      "source": [
        "### Values"
      ],
      "metadata": {
        "id": "wlwVE47Lntcq"
      }
    },
    {
      "cell_type": "markdown",
      "source": [
        "#### Training Values"
      ],
      "metadata": {
        "id": "xvUJGV0Huj1F"
      }
    },
    {
      "cell_type": "code",
      "source": [
        "category_order = {\n",
        "    \"Personajes animados\": 0,\n",
        "    \"Chistes\": 1,\n",
        "    \"Muerte\": 2,\n",
        "    \"Tensión\": 3,\n",
        "    \"Amor\": 4,\n",
        "    \"Miedo\": 5,\n",
        "    \"Extraterrestres\": 6,\n",
        "    \"Armas\": 7,\n",
        "    \"Personajes realistas\": 8\n",
        "}"
      ],
      "metadata": {
        "id": "FFSSeUjWLzHH"
      },
      "execution_count": null,
      "outputs": []
    },
    {
      "cell_type": "code",
      "source": [
        "training_inputs = np.array([\n",
        "    [0,1,1,0,0,1,1,1,0],\n",
        "    [1,1,1,0,1,0,0,0,0],\n",
        "    [1,0,0,1,0,0,1,1,1],\n",
        "    [0,0,1,1,0,1,0,0,1],\n",
        "    [0,1,1,1,1,0,1,1,0],\n",
        "    [1,1,1,0,0,1,0,0,0]\n",
        "])\n",
        "\n",
        "training_outputs = np.array([ [1, 1, 0, 1, 0, 1],\n",
        "                              [0, 1, 0, 1, 1, 0],\n",
        "                              [1, 0, 1, 0, 0, 1],\n",
        "                              [0, 1, 1, 1, 1, 1],\n",
        "                              [0, 1, 1, 0, 0, 1],\n",
        "                              [0, 1, 1, 0, 1, 0],\n",
        "                             ]).T\n",
        "\n",
        "display(training_inputs)\n",
        "display(training_outputs)"
      ],
      "metadata": {
        "colab": {
          "base_uri": "https://localhost:8080/",
          "height": 236
        },
        "id": "IJe-z6WUCH98",
        "outputId": "b9a59955-df62-457d-f6d8-7bd07c5dc433"
      },
      "execution_count": null,
      "outputs": [
        {
          "output_type": "display_data",
          "data": {
            "text/plain": [
              "array([[0, 1, 1, 0, 0, 1, 1, 1, 0],\n",
              "       [1, 1, 1, 0, 1, 0, 0, 0, 0],\n",
              "       [1, 0, 0, 1, 0, 0, 1, 1, 1],\n",
              "       [0, 0, 1, 1, 0, 1, 0, 0, 1],\n",
              "       [0, 1, 1, 1, 1, 0, 1, 1, 0],\n",
              "       [1, 1, 1, 0, 0, 1, 0, 0, 0]])"
            ]
          },
          "metadata": {}
        },
        {
          "output_type": "display_data",
          "data": {
            "text/plain": [
              "array([[1, 0, 1, 0, 0, 0],\n",
              "       [1, 1, 0, 1, 1, 1],\n",
              "       [0, 0, 1, 1, 1, 1],\n",
              "       [1, 1, 0, 1, 0, 0],\n",
              "       [0, 1, 0, 1, 0, 1],\n",
              "       [1, 0, 1, 1, 1, 0]])"
            ]
          },
          "metadata": {}
        }
      ]
    },
    {
      "cell_type": "code",
      "source": [
        "training_values = np.concatenate((training_inputs.T, training_outputs.T)).T\n",
        "table = lambda arr : display(HTML(tabulate.tabulate(arr, tablefmt='html')))\n",
        "table(training_values)"
      ],
      "metadata": {
        "id": "PCajxnvAdyhl",
        "colab": {
          "base_uri": "https://localhost:8080/",
          "height": 146
        },
        "outputId": "20477309-eb6c-485c-f1a5-0a585408b8bf"
      },
      "execution_count": null,
      "outputs": [
        {
          "output_type": "display_data",
          "data": {
            "text/plain": [
              "<IPython.core.display.HTML object>"
            ],
            "text/html": [
              "<table>\n",
              "<tbody>\n",
              "<tr><td style=\"text-align: right;\">0</td><td style=\"text-align: right;\">1</td><td style=\"text-align: right;\">1</td><td style=\"text-align: right;\">0</td><td style=\"text-align: right;\">0</td><td style=\"text-align: right;\">1</td><td style=\"text-align: right;\">1</td><td style=\"text-align: right;\">1</td><td style=\"text-align: right;\">0</td><td style=\"text-align: right;\">1</td><td style=\"text-align: right;\">0</td><td style=\"text-align: right;\">1</td><td style=\"text-align: right;\">0</td><td style=\"text-align: right;\">0</td><td style=\"text-align: right;\">0</td></tr>\n",
              "<tr><td style=\"text-align: right;\">1</td><td style=\"text-align: right;\">1</td><td style=\"text-align: right;\">1</td><td style=\"text-align: right;\">0</td><td style=\"text-align: right;\">1</td><td style=\"text-align: right;\">0</td><td style=\"text-align: right;\">0</td><td style=\"text-align: right;\">0</td><td style=\"text-align: right;\">0</td><td style=\"text-align: right;\">1</td><td style=\"text-align: right;\">1</td><td style=\"text-align: right;\">0</td><td style=\"text-align: right;\">1</td><td style=\"text-align: right;\">1</td><td style=\"text-align: right;\">1</td></tr>\n",
              "<tr><td style=\"text-align: right;\">1</td><td style=\"text-align: right;\">0</td><td style=\"text-align: right;\">0</td><td style=\"text-align: right;\">1</td><td style=\"text-align: right;\">0</td><td style=\"text-align: right;\">0</td><td style=\"text-align: right;\">1</td><td style=\"text-align: right;\">1</td><td style=\"text-align: right;\">1</td><td style=\"text-align: right;\">0</td><td style=\"text-align: right;\">0</td><td style=\"text-align: right;\">1</td><td style=\"text-align: right;\">1</td><td style=\"text-align: right;\">1</td><td style=\"text-align: right;\">1</td></tr>\n",
              "<tr><td style=\"text-align: right;\">0</td><td style=\"text-align: right;\">0</td><td style=\"text-align: right;\">1</td><td style=\"text-align: right;\">1</td><td style=\"text-align: right;\">0</td><td style=\"text-align: right;\">1</td><td style=\"text-align: right;\">0</td><td style=\"text-align: right;\">0</td><td style=\"text-align: right;\">1</td><td style=\"text-align: right;\">1</td><td style=\"text-align: right;\">1</td><td style=\"text-align: right;\">0</td><td style=\"text-align: right;\">1</td><td style=\"text-align: right;\">0</td><td style=\"text-align: right;\">0</td></tr>\n",
              "<tr><td style=\"text-align: right;\">0</td><td style=\"text-align: right;\">1</td><td style=\"text-align: right;\">1</td><td style=\"text-align: right;\">1</td><td style=\"text-align: right;\">1</td><td style=\"text-align: right;\">0</td><td style=\"text-align: right;\">1</td><td style=\"text-align: right;\">1</td><td style=\"text-align: right;\">0</td><td style=\"text-align: right;\">0</td><td style=\"text-align: right;\">1</td><td style=\"text-align: right;\">0</td><td style=\"text-align: right;\">1</td><td style=\"text-align: right;\">0</td><td style=\"text-align: right;\">1</td></tr>\n",
              "<tr><td style=\"text-align: right;\">1</td><td style=\"text-align: right;\">1</td><td style=\"text-align: right;\">1</td><td style=\"text-align: right;\">0</td><td style=\"text-align: right;\">0</td><td style=\"text-align: right;\">1</td><td style=\"text-align: right;\">0</td><td style=\"text-align: right;\">0</td><td style=\"text-align: right;\">0</td><td style=\"text-align: right;\">1</td><td style=\"text-align: right;\">0</td><td style=\"text-align: right;\">1</td><td style=\"text-align: right;\">1</td><td style=\"text-align: right;\">1</td><td style=\"text-align: right;\">0</td></tr>\n",
              "</tbody>\n",
              "</table>"
            ]
          },
          "metadata": {}
        }
      ]
    },
    {
      "cell_type": "markdown",
      "source": [
        "#### Synaptic weights"
      ],
      "metadata": {
        "id": "WM0UGBrAnxKs"
      }
    },
    {
      "cell_type": "code",
      "source": [
        "training_inputs.shape"
      ],
      "metadata": {
        "colab": {
          "base_uri": "https://localhost:8080/"
        },
        "id": "1hdjgy9TTizF",
        "outputId": "538770b3-4a4f-4f4e-b93f-6c9765874613"
      },
      "execution_count": null,
      "outputs": [
        {
          "output_type": "execute_result",
          "data": {
            "text/plain": [
              "(6, 9)"
            ]
          },
          "metadata": {},
          "execution_count": 8
        }
      ]
    },
    {
      "cell_type": "code",
      "source": [
        "training_outputs.shape"
      ],
      "metadata": {
        "colab": {
          "base_uri": "https://localhost:8080/"
        },
        "id": "HqOjCmfYTmn_",
        "outputId": "7431445f-c90d-4dd0-84e1-5b63761cb530"
      },
      "execution_count": null,
      "outputs": [
        {
          "output_type": "execute_result",
          "data": {
            "text/plain": [
              "(6, 6)"
            ]
          },
          "metadata": {},
          "execution_count": 9
        }
      ]
    },
    {
      "cell_type": "code",
      "source": [
        "n = training_inputs.shape[1]\n",
        "m = training_outputs.shape[1]\n",
        "synaptic_weights = 2 + np.random.random((n, m)) - 1\n",
        "\n",
        "synaptic_weights"
      ],
      "metadata": {
        "colab": {
          "base_uri": "https://localhost:8080/"
        },
        "id": "2WjmwkX7E6t1",
        "outputId": "7a1a3d7c-7ae3-461f-aaac-a5301fa0357e"
      },
      "execution_count": null,
      "outputs": [
        {
          "output_type": "execute_result",
          "data": {
            "text/plain": [
              "array([[1.417022  , 1.72032449, 1.00011437, 1.30233257, 1.14675589,\n",
              "        1.09233859],\n",
              "       [1.18626021, 1.34556073, 1.39676747, 1.53881673, 1.41919451,\n",
              "        1.6852195 ],\n",
              "       [1.20445225, 1.87811744, 1.02738759, 1.67046751, 1.4173048 ,\n",
              "        1.55868983],\n",
              "       [1.14038694, 1.19810149, 1.80074457, 1.96826158, 1.31342418,\n",
              "        1.69232262],\n",
              "       [1.87638915, 1.89460666, 1.08504421, 1.03905478, 1.16983042,\n",
              "        1.8781425 ],\n",
              "       [1.09834683, 1.42110763, 1.95788953, 1.53316528, 1.69187711,\n",
              "        1.31551563],\n",
              "       [1.68650093, 1.83462567, 1.01828828, 1.75014431, 1.98886109,\n",
              "        1.74816565],\n",
              "       [1.28044399, 1.78927933, 1.10322601, 1.44789353, 1.9085955 ,\n",
              "        1.29361415],\n",
              "       [1.28777534, 1.13002857, 1.01936696, 1.67883553, 1.21162812,\n",
              "        1.26554666]])"
            ]
          },
          "metadata": {},
          "execution_count": 9
        }
      ]
    },
    {
      "cell_type": "code",
      "source": [
        "print(training_inputs.shape)"
      ],
      "metadata": {
        "colab": {
          "base_uri": "https://localhost:8080/"
        },
        "id": "KzfigrOtRgwV",
        "outputId": "7813fdd5-e327-4ded-b640-59d4e256b67a"
      },
      "execution_count": null,
      "outputs": [
        {
          "output_type": "stream",
          "name": "stdout",
          "text": [
            "(6, 9)\n"
          ]
        }
      ]
    },
    {
      "cell_type": "markdown",
      "source": [
        "## Training"
      ],
      "metadata": {
        "id": "SvRwhjxMn-lw"
      }
    },
    {
      "cell_type": "markdown",
      "source": [
        "Para obtener un resultado a partir de los inputs y los synaptic weights se realiza la siguiente función:\n",
        "\n",
        "$$\\sum_{i=0}^{n}{x_iw_i}$$\n",
        "\n",
        "Y se le aplica la función sigmoide para normalizar al rango 0, 1\n",
        "\n",
        "Por ejemplo, si nuestros inputs $x_i$ son `[1, 1, 1]` y nuestros pesos sinapticos $w_i$ son `[[11.30926442], [-0.20511667], [-5.4500033]]`\n",
        "\n",
        "Nos resulta la cuenta\n",
        "$$[1 \\times 11.30926442] + [1 \\times (-0.20511667)] + [1 \\times (-5.4500033)] = 5.6541444499999995$$\n",
        "\n",
        "Con la función sigmoide es facil ver como $$\\operatorname{sigmoid}(5.65) \\approx 1$$"
      ],
      "metadata": {
        "id": "vyFklb0-ptf3"
      }
    },
    {
      "cell_type": "code",
      "source": [
        "eval_NN = lambda x, w: sigmoid(np.dot(x, w))"
      ],
      "metadata": {
        "id": "cVzwPQlYstOz"
      },
      "execution_count": null,
      "outputs": []
    },
    {
      "cell_type": "code",
      "source": [
        "eval_NN(training_inputs, synaptic_weights).shape"
      ],
      "metadata": {
        "colab": {
          "base_uri": "https://localhost:8080/"
        },
        "id": "l7eFkOyPMPHg",
        "outputId": "c27320f7-176f-4c41-ec15-21d16dc8752b"
      },
      "execution_count": null,
      "outputs": [
        {
          "output_type": "execute_result",
          "data": {
            "text/plain": [
              "(6, 6)"
            ]
          },
          "metadata": {},
          "execution_count": 28
        }
      ]
    },
    {
      "cell_type": "code",
      "source": [
        "# 50000 epochs\n",
        "for iteration in range(50000):\n",
        "\n",
        "    # Arranca con los valores de training\n",
        "    input_layer = training_inputs\n",
        "\n",
        "    # Genera un output haciendo la suma de los valores de input multiplicados por su peso sinaptico, y aplicandole la función sigmoide para normalizar a -1, 1\n",
        "    outputs = eval_NN(input_layer, synaptic_weights)\n",
        "\n",
        "    # Calculo el error\n",
        "\n",
        "    error = training_outputs - outputs\n",
        "\n",
        "    # Ajusto los pesos en funcion al error y al resultado obtenido\n",
        "    adjustments = error * sigmoid_derivative(outputs)\n",
        "    synaptic_weights += np.dot(input_layer.T, adjustments)"
      ],
      "metadata": {
        "id": "GE6UM40eE8kR"
      },
      "execution_count": null,
      "outputs": []
    },
    {
      "cell_type": "code",
      "source": [
        "outputs.shape"
      ],
      "metadata": {
        "colab": {
          "base_uri": "https://localhost:8080/"
        },
        "id": "10l8orW9URRk",
        "outputId": "00238253-eeec-4c4e-d17e-11059f358435"
      },
      "execution_count": null,
      "outputs": [
        {
          "output_type": "execute_result",
          "data": {
            "text/plain": [
              "(6, 6)"
            ]
          },
          "metadata": {},
          "execution_count": 15
        }
      ]
    },
    {
      "cell_type": "code",
      "source": [
        "print('Synaptic weights after training')\n",
        "print(synaptic_weights)\n",
        "\n",
        "print('Outputs after training: ')\n",
        "print(outputs)"
      ],
      "metadata": {
        "colab": {
          "base_uri": "https://localhost:8080/"
        },
        "id": "8_LfZgY9FBpO",
        "outputId": "073c43a6-b3d4-4783-c058-218636286431"
      },
      "execution_count": null,
      "outputs": [
        {
          "output_type": "stream",
          "name": "stdout",
          "text": [
            "Synaptic weights after training\n",
            "[[ 2.32178105e+00 -4.80147676e+00  4.96295778e+00  5.39207608e+00\n",
            "   9.52290584e+00  2.56155388e+00]\n",
            " [ 2.00193664e+00 -1.36793024e+00  7.07859082e-01  1.06082307e+00\n",
            "   1.03679699e+00 -7.05148726e-03]\n",
            " [ 3.87046444e+00  4.03422666e+00 -3.98794195e+00  9.17665253e-01\n",
            "  -2.57233224e+00 -1.34275762e+00]\n",
            " [-3.83329487e+00  2.94169505e+00 -3.24793995e+00  5.37833025e+00\n",
            "  -1.67711604e+00  1.77708281e+00]\n",
            " [-2.16404051e+00  7.76684712e+00 -7.30415638e+00  4.62914438e+00\n",
            "  -9.69315607e-01  4.65097273e+00]\n",
            " [ 5.78960901e+00 -3.40001150e+00  3.84272097e+00 -1.52775816e+00\n",
            "  -2.18118961e+00 -7.13325239e+00]\n",
            " [-2.61159557e+00 -2.72242758e+00  3.69358573e+00 -3.01936994e+00\n",
            "  -1.16297777e+00  6.98247421e-01]\n",
            " [-3.06513686e+00 -3.64847889e+00  3.00185446e+00 -3.03358048e+00\n",
            "  -1.14182761e+00  1.25258187e+00]\n",
            " [ 4.92761309e-01  2.18858314e+00 -2.36689356e+00  2.12622271e+00\n",
            "   4.43532115e-01  8.13883987e-02]]\n",
            "Outputs after training: \n",
            "[[9.97490772e-01 8.20636754e-04 9.99296027e-01 3.67613607e-03\n",
            "  2.42010727e-03 1.45365182e-03]\n",
            " [9.97600593e-01 9.96430155e-01 3.60697786e-03 9.99993854e-01\n",
            "  9.99105225e-01 9.97164529e-01]\n",
            " [1.23496746e-03 2.37094019e-03 9.97632509e-01 9.98934951e-01\n",
            "  9.97488866e-01 9.98292207e-01]\n",
            " [9.98202447e-01 9.96872794e-01 3.14107406e-03 9.98987632e-01\n",
            "  2.50465679e-03 1.33494599e-03]\n",
            " [3.01343506e-03 9.99092510e-01 7.94719111e-04 9.97356495e-01\n",
            "  1.52115699e-03 9.99115024e-01]\n",
            " [9.99999155e-01 3.92998507e-03 9.96032272e-01 9.97107669e-01\n",
            "  9.97000097e-01 2.67401197e-03]]\n"
          ]
        }
      ]
    },
    {
      "cell_type": "markdown",
      "source": [
        "## Eval"
      ],
      "metadata": {
        "id": "1lBXXHfFoD67"
      }
    },
    {
      "cell_type": "code",
      "source": [
        "table(training_values)"
      ],
      "metadata": {
        "colab": {
          "base_uri": "https://localhost:8080/",
          "height": 147
        },
        "id": "zOynLtbAeKjy",
        "outputId": "78ff9cfa-09f8-4768-a028-4e95e254df44"
      },
      "execution_count": null,
      "outputs": [
        {
          "output_type": "display_data",
          "data": {
            "text/plain": [
              "<IPython.core.display.HTML object>"
            ],
            "text/html": [
              "<table>\n",
              "<tbody>\n",
              "<tr><td style=\"text-align: right;\">0</td><td style=\"text-align: right;\">1</td><td style=\"text-align: right;\">1</td><td style=\"text-align: right;\">0</td><td style=\"text-align: right;\">0</td><td style=\"text-align: right;\">1</td><td style=\"text-align: right;\">1</td><td style=\"text-align: right;\">1</td><td style=\"text-align: right;\">0</td><td style=\"text-align: right;\">1</td><td style=\"text-align: right;\">0</td><td style=\"text-align: right;\">1</td><td style=\"text-align: right;\">0</td><td style=\"text-align: right;\">0</td><td style=\"text-align: right;\">0</td></tr>\n",
              "<tr><td style=\"text-align: right;\">1</td><td style=\"text-align: right;\">1</td><td style=\"text-align: right;\">1</td><td style=\"text-align: right;\">0</td><td style=\"text-align: right;\">1</td><td style=\"text-align: right;\">0</td><td style=\"text-align: right;\">0</td><td style=\"text-align: right;\">0</td><td style=\"text-align: right;\">0</td><td style=\"text-align: right;\">1</td><td style=\"text-align: right;\">1</td><td style=\"text-align: right;\">0</td><td style=\"text-align: right;\">1</td><td style=\"text-align: right;\">1</td><td style=\"text-align: right;\">1</td></tr>\n",
              "<tr><td style=\"text-align: right;\">1</td><td style=\"text-align: right;\">0</td><td style=\"text-align: right;\">0</td><td style=\"text-align: right;\">1</td><td style=\"text-align: right;\">0</td><td style=\"text-align: right;\">0</td><td style=\"text-align: right;\">1</td><td style=\"text-align: right;\">1</td><td style=\"text-align: right;\">1</td><td style=\"text-align: right;\">0</td><td style=\"text-align: right;\">0</td><td style=\"text-align: right;\">1</td><td style=\"text-align: right;\">1</td><td style=\"text-align: right;\">1</td><td style=\"text-align: right;\">1</td></tr>\n",
              "<tr><td style=\"text-align: right;\">0</td><td style=\"text-align: right;\">0</td><td style=\"text-align: right;\">1</td><td style=\"text-align: right;\">1</td><td style=\"text-align: right;\">0</td><td style=\"text-align: right;\">1</td><td style=\"text-align: right;\">0</td><td style=\"text-align: right;\">0</td><td style=\"text-align: right;\">1</td><td style=\"text-align: right;\">1</td><td style=\"text-align: right;\">1</td><td style=\"text-align: right;\">0</td><td style=\"text-align: right;\">1</td><td style=\"text-align: right;\">0</td><td style=\"text-align: right;\">0</td></tr>\n",
              "<tr><td style=\"text-align: right;\">0</td><td style=\"text-align: right;\">1</td><td style=\"text-align: right;\">1</td><td style=\"text-align: right;\">1</td><td style=\"text-align: right;\">1</td><td style=\"text-align: right;\">0</td><td style=\"text-align: right;\">1</td><td style=\"text-align: right;\">1</td><td style=\"text-align: right;\">0</td><td style=\"text-align: right;\">0</td><td style=\"text-align: right;\">1</td><td style=\"text-align: right;\">0</td><td style=\"text-align: right;\">1</td><td style=\"text-align: right;\">0</td><td style=\"text-align: right;\">1</td></tr>\n",
              "<tr><td style=\"text-align: right;\">1</td><td style=\"text-align: right;\">1</td><td style=\"text-align: right;\">1</td><td style=\"text-align: right;\">0</td><td style=\"text-align: right;\">0</td><td style=\"text-align: right;\">1</td><td style=\"text-align: right;\">0</td><td style=\"text-align: right;\">0</td><td style=\"text-align: right;\">0</td><td style=\"text-align: right;\">1</td><td style=\"text-align: right;\">0</td><td style=\"text-align: right;\">1</td><td style=\"text-align: right;\">1</td><td style=\"text-align: right;\">1</td><td style=\"text-align: right;\">0</td></tr>\n",
              "</tbody>\n",
              "</table>"
            ]
          },
          "metadata": {}
        }
      ]
    },
    {
      "cell_type": "code",
      "source": [
        "large = lambda x : display(HTML('<p style=\"font-size: 50px; color: #66D148\">'+str(x)+'</p>'))"
      ],
      "metadata": {
        "id": "1V_H4tV6vzvd"
      },
      "execution_count": null,
      "outputs": []
    },
    {
      "cell_type": "code",
      "source": [
        "a = 1 #@param {type:\"integer\"}\n",
        "c = 1 #@param {type:\"integer\"}\n",
        "b = 1 #@param {type:\"integer\"}\n",
        "d = 0 #@param {type:\"integer\"}\n",
        "e = 0 #@param {type:\"integer\"}\n",
        "f = 1 #@param {type:\"integer\"}\n",
        "g = 0 #@param {type:\"integer\"}\n",
        "h = 1 #@param {type:\"integer\"}\n",
        "i = 0 #@param {type:\"integer\"}\n",
        "\n",
        "input_layer = np.array([a, b, c,d,e,f,g,h,i])\n",
        "res = sigmoid(np.dot(input_layer, synaptic_weights))\n",
        "display(res)\n",
        "\n",
        "thresh = 0.01\n",
        "#out = 0 if res < thresh else 1\n",
        "out = np.where(res < thresh,0,1)\n",
        "\n",
        "large(out)"
      ],
      "metadata": {
        "colab": {
          "base_uri": "https://localhost:8080/",
          "height": 126
        },
        "id": "wlN9Pkcwbb-J",
        "outputId": "e095bae4-59aa-4e7e-e053-b43cfcc5a17e"
      },
      "execution_count": null,
      "outputs": [
        {
          "output_type": "display_data",
          "data": {
            "text/plain": [
              "array([9.99981883e-01, 1.02692298e-04, 9.99802080e-01, 9.43172336e-01,\n",
              "       9.90662666e-01, 9.29513305e-03])"
            ]
          },
          "metadata": {}
        },
        {
          "output_type": "display_data",
          "data": {
            "text/plain": [
              "<IPython.core.display.HTML object>"
            ],
            "text/html": [
              "<p style=\"font-size: 50px; color: #66D148\">[1 0 1 1 1 0]</p>"
            ]
          },
          "metadata": {}
        }
      ]
    },
    {
      "cell_type": "markdown",
      "source": [],
      "metadata": {
        "id": "Y1scFnubf3Yd"
      }
    },
    {
      "cell_type": "markdown",
      "source": [
        "BONUS\\\n",
        "1) Para que la red admita n candidad de entradas con k candidad de capas ocultas, es cambiar la funcion de activación. En este caso estamos utilizando un perceptron que tiene esta pinta:\\\n",
        "![image.png](data:image/png;base64,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)\\\n",
        "Pero al cambiar la funcion por una Feed Foward o una Radial Basis Network, logramos tener una red mas compleja con mas conexiones que complejizan la red y permiten n cantidad de entradas y a su vez sumas hidden layers. Nos quedaria algo asi:\\\n",
        "![image.png](data:image/png;base64,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)\\\n",
        "Ya para terminar, si se quiere una red con más hidden layers y mas cantidad de datos de entradas, para un mejor manejo de datos se puede utilizar Deep Feed Foward, que se ve de la siguiente manera:\\\n",
        "![image.png](data:image/png;base64,iVBORw0KGgoAAAANSUhEUgAAAR0AAAEHCAYAAACTJ5KGAAAgAElEQVR4Ae2dBZQcxdbHJyG4E4I/4D0k6MPtw10fTpQQJMQDhCR4ILgTJLi7JziEAEmIy27c1mMb28i6z/3Or0Jtanu7Z3p2x3a37jmz09tT3V11u+vf1ysgliwHLAcsB+LIgUAcr2UvZTlgOWA5IBZ07ENgOWA5EFcOWNCJK7vtxSwHLAcs6NhnwHLAciCuHLCgE1d224tZDlgOWNCxz4DlgOVAXDlgQSeu7LYXsxywHLCgY58BywHLgbhywIJOXNltL2Y5YDlgQcc+A5YDlgNx5YAFnbiy217McsBywIKOfQYsBywH4soBCzpxZbe9mOWA5YAFHfsMWA5YDsSVAxZ04spuezHLAcsBCzr2GbAcsByIKwcs6MSV3fZilgOWAxZ07DNgOWA5EFcOWNCJK7vtxSwHLAcs6NhnwHLAciCuHLCgE1d224tZDlgOWNCxz4DlgOVAXDlgQSeu7LYXawwcCAaDjaGbjbaPFnQa7a0L3/H09HTp06ePlJaWhm9sW0hFRYXcd999Mn78eF/cWLp0qYwbN85X23g0+uOPP+JxmQZfI+Ggw1ulvLxcSkpKpKysTKqrqxs8qHifgDHQb69Pot6cv//+u7Ro0UIKCgo8WZKsfffscAx/AJz32Wcf+eyzz8JehXvdu3dvOfLII2XVqlU17dnPeXieAbFw5Jf/4dpxnUMOOUQGDRokVVVV4S6b0N8TCjrvvPOOtG/fXs466yz5v//7Pzn99NPliiuukCeffFKWL1+eUMZEcvHRo0fL+eef7/q54IILZMqUKZGcLmpt/YDOhx9+6NpvxnPhhRfKtGnTotafZD9RJKCDhLPLLrvIhAkT1LByc3Nl4MCBwv3mOeZ5Pvvss6Vbt27yzTffqBeq2/h/+uknT/5zD3799Vd12FtvveXZjvu0fv16+eKLL6Rly5bC85jMlFDQufHGG2XnnXeWm266Sfr376/eHJdddpkcdthhstNOO8lDDz0khYWFycw/1bfPP/9cSRSXXHKJXH311XU+06dPT8gY/IAOPN56663r9JlxXHPNNZKovieCYX5BB4n81FNPVVKF7ieqbJs2beSYY45RKi3Pc9euXRX47LbbbnL88cfL1KlT60ghr7/+umy55Zau/Oce/Pbbb+oSSDCbb765/O9//3NtC+hA55xzjlx//fW6W0n5nXDQOeqooyQ/P7+GOYina9euFZC9VatW6sbV/JikGxp0li1bllQ99As6++67b1L1O1Gd8Qs6v/zyi2y77ba1JFgNOkjpJnHOBQsWKCkFUPr777/NnwXQ2X333Wvtc/sH0Nl+++3V3HD7Xe/Lzs5W7TIyMvSupPtOOtAxOYRuzc0dNmyYuVtt8wYeMmSIAiVuCCIltiEnoVsz+WjDm+fRRx+VmTNnimlnAeRo88ILL8htt90mPXr0kPvvv1++++67sDeZ60UCOvQR0Zzzd+7cWR588EGZOHFinTcg512zZo2ggnbv3l169eol7733nqxYscI5RPV/VlaWvPrqq6odxmOOe/fdd8PadJB0/IIOfYfPGFu7dOmixsD/vPlNot8YNZ999lnp27evevM/88wzyuYFr/Tb2zyG+4l6YN4XfucNzgto8eLFqjnGW87LPYJ/9957r5rIpv2Ec8ydO1dQHe+8807p2bOn3HXXXbWMvti5uL9IJKhAjz32mBqbH5vO7bffLgcffHCtcXuBjh4jEvuZZ56p7C55eXl6d9RBh7Gj3t1zzz0110i2jaQGHQDj5JNPlhNOOKGWMZSHBTA68MAD5dZbb5Wjjz5aiagPP/xwHf4CIoivp5xyinr4EHV540yaNKmmbUpKimyxxRbSunVr9WBgVzr00EOVOItuHk7FiwR0nnvuOdlmm22UCtmvXz81Bt5gnMNJiPAYghGz27VrJzvuuKO0bdtWnBIVb1ImC/r8pZdeqkRw1FauE86QHAnoDB48WLbaais54IADBNUYwyX/M6FNGjFihOI5E7NDhw6q/0w4pFjUZ6RbJzG+f/3rX1JZWVnrJ8CIca1evVrtHzt2rOIZgAO48gzwLPBMaOK5Yf92220nF110kXTs2FHZVwBhTfQDSfq4445Tv//73/9WauZmm20W1pB82mmnKTDT5+I7HOjQZvLkyapPb775Zs2h0ZZ0ODFzYv/993d9CddcOIEbSQ068AVpBqDQbzreEvvtt5+yN+gHkXZPP/20evhmz55dw04kCmxDSACIuRCq3OWXX65ApaioSO0DdHgAf/jhh5pjefh5W/PwMpGdk6GmYQSSzowZM5TxkTFpICsuLlY2LR4SrWYiUVx33XXqwTHBMTU1VXbYYQd56qmnai6PVIEN7Nxzz60FRuvWrRNAIlqgg9QJiL3yyis1Uhk8ZQLBY1N6+fbbb9U9y8nJqemn3kBKQp0wHQVIHXvvvbcw4fV91u2RQHjxaAJQAC9NHIvx1tmG8yFlOYn7CNjTh59//rnmZzw+GG3hbzjvFQZkp3vaD+isXLlSADcAU48hFqCDZkAfMzMza8aXTBtJDzqI3Bg6Fy1apPiG2AgQOImHmInLhNbE/0gtTuKNw9tRPzhuoKOP+fHHH5XEg/rlRVrS2WuvvcT5wbCnCUMzBkUNdno/wMEkYKzQnDlzlIGdCe4k1In//ve/NbsBSgyMf/31V80+veHXpgPgOvvN/1pEZ6Lzdj/22GOVK1ifX38D4rTXwBwKdPDWAF5mLMysWbOUFHfeeeeJU1pFEgE8Q9Gff/6pXhq6Df31Ah39nNxxxx26ec23H5sO4ASQL1mypOY4NvyADv3CxQ5IalMAoAPYuvEftVAT5gEkPrd2zrF89dVXCjzhazJS0oMODzCqz8KFCxX/ENmZvHgCzA9SDb8hSkM8FNxMYinMdmwzUXfddVdlK6BtKNDhurzJTelCXcD4o0GHyfH444/X+nz88ceqJZKH7jugZ/YJlQFpBTsPhNQAEOBqNdux/eKLLyqQ0bEYjzzyiJoEWkoyuqXsVH4kHVQxZ7/5f+TIkep0SJcAuNfkpy0qIhMPCgU6GzZsUG2xn2n68ssvZc8991TeSlQsPTbe1Khv8MckxgrIIpHA+08//VTxAEkCCgU68+bNU6D3/fffm6dU235AJy0tTU1+DRr6JH5AB9sXLwykUm0HA3SQrtz4b6qMgA684KXqbOt8IXLfAHZshclISQ86vO2Z9BhKuVFMEJjPPrcPNgQeWtQsQAeJxq0d+55//nl1T0KBDg8yNiDn28S8mRp0nLYWsw1vWNRCHgav/mCjgPQk8mrHfkAM4hj+dyO/kk44QzLGa0DatImY12M/44KPUCjQ4XeM0Ew8TRhyeTkgBXHPMAJDb7zxhrLzYDzWhAqEjQ77FtIhqje2G8DVD+hgI6ItqqqT/IAO0gMSh1aP9Dn8gA5GcWxyV155ZQ2wxkK9GjVqlLofpjSp+5kM30kNOngksKcgBeBhQnwHdLhpqCBuH20TmD9/vnqA8Q65tWOfBolQoIPEhIGZN40X+QEdJq7W5736o92cX3/9tZoYTDCvtvqhJyCNSej0+tDXaIEOk5kJ7uZF5DqvvfaaAnctzocDHd7AgBQvEvqNERwQgEeoinjpuNcY0IlL0ZIP4MMLANDipUJ7wJzr+QUdPJdIkW5SgB/QIQiQa3Fdk/yADlIWthY8qJpiATpIyEhP2BCTkZIadHhA9thjD/UW1JOK6GVcguEIkGIyhpJQ9DlCgQ4TiRvIw+FFfkAHgzGi9cUXXxw2PB51AmnONGx7XRvXOG9eHmgnRQt0UImOOOIIFXSmwc68FoZZpC2dDhAOdLg3qJqohkg3bGvJ7dprr5VOnTopozogze+aPvjgAwV+zrQOJCO/oAPQIR0NHTpUn7bm2w/o0JjnwTTwsy8c6ACcuO851rxXsQAdjPuAG31KRkpa0EEMxo5AhCcPqSaMZExIP6HeqFrYCJjwoSgU6OA9YVJrm5LbefyADsfdfffdSmpyGiGd5+SNjo0DN7J+yzvb6P+RhLCnEDvipGiBDkBDXAwSiZYk9bX4DXDAha5fDOFAh2OImiXUgZcI2xrMABBUOc6BKmLG32AfY9ICgiZFAjrYewifwECto3j1ufyCDsZgp30rFOhg/0HiRtV3SouxAB28dhjSGWsyUsJBh5gP3mYYgseMGaMeNqQTVBokGt5MTkLsRgwH0THKAhp4oog5MYm353/+8x8lYQwfPlwZZQEzDHTaU0R7judNSVwMfUHUJ18KMRh7gbb9mOc2t/2CDgZQYlSYpJ988om6BtfGcPzRRx+Zp1RGbiYYtg4Alj7xdsV+QlyOSU888YSajKiA8BHpDKMzxm/G5ZQMzGP9xumg+uE1xIuFoRIpFM8ekxf11wSCcKDD9fE4AZZ8nBIdXjI+SEImaS8fKhc8YZzwBd75lXQ4H/lSTErsSrjNGQv3gXHx3IVzmZO2A2CagKhBB/sUkir3gWcSUOG5Qi3EUQCwmRRt0AH48Zjy3CQrJRR0cAny0CG5oOPjGuebhwF7ho5lcTKPSUTQH215ezA5OYfpntbHYNshIQ4PmH7I+TZvCg8cBkxctuj7nA+w4RgeinDShl/QoU9ICkhgXIdrcC3GzT6TePPDA2wpjI12jBUDKhPNJPqHHq/5RxvdfyTFaIAO18ObBI/hC9dAfeV/pxToB3ToM4GXTmmG6yAVcG95QTgJrxWSEDyhD/re40r2Y0jW58MmdOKJJ9aMRT+HnCcc6CBt096MCQN0kIC4r/o+wB+kQ16i/K6lOd0HvqMNOgAzvEECTlZKKOjAFN4WGOe4KUzISERCggORSHirIBG53VSuAfoTqMYbDgOitj3omwLo8LDwxuWmkR+D5T/UZNXH8o3R081lbbZxbjNm+sJ1tEHb2Ub/zwPEm503svNNqdvwzTjJCket4tzhzssxqJ6R9h1Ji7c431qlMvtBHzlnOLCGv27X5vhQvOea2EXgCcCEUdd57zk+FK90fwFMxoKUzbbTFa7bmd/EWWGHQvV2EhIfzxrPM89ZOB7wvLvxwHlePLd+2hEy4hab5jxfIv9POOgkcvD62ibo6H3223IgFAdI+kQ6TqaoX6RA+uQWgxRqLPH+zYJOmODAeN8Qe73GwQEkIlRi1EunQTpRI8BAjvNBBx4mqh/hrmtBR0QZJElINPOHwjHO/m45gJSDMT1ZCLteYyALOo3hLtk+Wg40IQ5Y0GlCN9MOxXKgMXDAgk5juEu2j5YDTYgDFnSa0M20Q7EcaAwcsKDTGO6S7aPlQBPigAWdJnQz7VAsBxoDByzoNIa7ZPtoOdCEOGBBpwndTDsUy4HGwAELOo3hLtk+Wg40IQ5Y0GlCN9MOxXKgMXDAgk5juEu2j5YDTYgDFnSa0M20Q7EcaAwcsKDTGO5SA/pYUV0qJVUban1KqwoacMbEHlpWVVhrLIytvDo5y3ImllPJe3ULOsl7b+rds8pgmUzM+0Dez+4qj84/Rh6ae3itz8PzjpBnFp4mPy5/WHKKp9X7OvE6cFnJbPk593F5ftHZ8vC8I2uNhbE9Mu9oeSerk/y95m1pzIAaL34m+joWdBJ9B6J0/apghWQXTZWvltwp/WfuIt2nB3x9eqZsJi8sOlcm530iRZWbCuBHqVv1Pk1JVb5MW/elvJx2sfRK2cLXWBjzHTN2ks8W95GMwglSGSyv9/XtgbHjgAWd2PE2rmf+JKeH9Evd1vfkdIIS4HP/nAMkraD2appxHcQ/F8spmiaD5xwsvVJa1Xs8fVO3kXezOktQgokYgr1mCA5Y0AnBnMbwU3bRFHlgzkH1npxO8GGy/pL7uJRVF8V9+BXVJfLHypekX+r2URvPXbP2kkUFY+I+FntBbw5Y0PHmTdL/sr48V/qlbhe1CWoC0FdLB8R9/L+ueEq6T28R9fEApGvLl8R9PPaC7hywoOPOl6Tfu6o0TYbMOyLqE1QDDxN15IpnpTpYGXNeVAerZMyq16Iq4ehx6O97Z+8vS4qTc5ndmDM4yS5gQSfJboif7mA0xpOjJ1SsvntMbymzNsS+BnB64Xjp2wB7lN/xP7XgZIF3lhLLAQs6ieV/xFcPSrV8t+z+mAOOnsgPzT0spnEwxBE9Nv/YuI0HzxaSlaXEccCCTuJ4X68r55XnCMZRDQrx+P58yW0C2EWb8Cx9v/zBuI7ljhk7y5LimdEeij1fBBywoBMBs5Kh6bdL747rJAXUmKgrS9OiPvz1Fcvl3tn7xX08nyzuGfWx2BP654AFHf+8SnjL0qp86ZO6ddwnaY/pLVSEc7QZMGfDL4LdKB7SmnmNPqlbSXHV+mgPx57PJwcs6PhkVDI0m7L2s7hPUD1ZX06/OOoseCPz2oSNZ8zq16M+HntCfxywoOOPT0nR6vMl/RI2SW9L3T6qnp+qYKXcPmPHhI3nzcx2Nlo5QU+1BZ0EMT7SyxIv80r6ZQmbpEg80TTA5pbOT+hYcJ+XVxdHehts+yhwwIJOFJgYj1OQOc5E0epOIr6nrf0iakOdtf7HhI7lobmHJlWCa9QY2whOZEGnEdwkuhjveBY3UPtr+WtSUlISlc+EFR8lFHTIVyusXN1I7n7T6qYFnUZyP5MBdA65IiCBQHQ+B5zvr/SGG/hFY58FncQ9+BZ0Esf7iK6MevX4/OMSKh1MWPN+RH0O1Xj6uq8TOhZKZxRWrgnVRftbjDhgQSdGjI32afH2vJh2YUInKoWxokU5xSkJHcvj84+XsurCaA3HnicCDljQiYBZiW0alI9ybknYRO2VsnlUc7BQF3tHUBEwGiqVeY5X0i+NSWpHYp+RxnF1CzqN4z6pXo5Z/WrCQOfJBSdFnVPPLTozYeP5OffRqI/HntAfByzo+ONTUrRaXjKvQSU8zTd9ZNst5IflD0WdB3+ufElIsYisLw03QPdMaSWLi1OjPh57Qn8csKDjj09J0Yqs7JfSLor7JKWgV2bRxKjzYEXpAuk/s3Xcx4OEZWsnR/12+j6hBR3frEpcw7KyMvnll1/k6quvltZtA3LT3w1/20ciXVAwLBYrK2AcfzPzuriCDsme8/J/T9zNtFcWCzpJ/hAsXrxYjjnmGGnRooW0bt1avvz6c3k57ZK4TVQmaSzrC68vXy5IUpGAYEPaPrHgRKEAvKXEccCCjoP3wWClVBRlS0VRRq1PdUW+o2Xs/q2oqJAff/xRrrjiCmnZsqUcf/zx8vbbb8u6devURamPPGjWnnGYqC3kpzgYXEevGibYWRoCJn6OHTBzN8ktmRe7G2fP7IsDFnSCVVJdsV6Klr4rOWMvkEXfBmo+acMDoj/sz/7zJFkz/2GpKs+TYHX0F3IDbObOnSunnXaaApt//etf8vHHH7veyIUFo2MrIUwLyKNzj5HKGIzTOSDqFg9ddL50nxY7tbHn9FYyfe1Xzkvb/xPAgWYNOuUbpkru5Gsl69d/SfrwgOT+FpA1fwRkw5iAFP4dkOJxmz75Yzb+lv1DQNJ/2FGWjTtPCpd9KRKFQt/V1dXy888/y4UXXihbbbWVHHnkkfLJJ5/ImjXeEbPYQ8aveVcoOeHnLR9pmwuHBqTvgO5SWRn71SCqqqrkviED5dwnYgM6N48LyPFdt5ZxE+z6VwnAmDqXbJagE6zMl/z0xyTj+y0FEAFkZLq/T3BaQPLHBmTxjwFJ/66lrJzWUapK67emUnl5uUyePFnOP/98adWqlbRt21beeOONOjcp1I55G0bK7TN2ihrwsNLnsPTL5clnHlN9euyxxwRQiBUBuMOGDZMtt9xS7r53kLyZ0S6qYQFUWvxl0TA56qijZM8991SSZDBoV/2M1f30c97mBzoVy2XtlJMl47uWCjyqp/kDGycoAT7F4wOS80NAlv2xnwQLIksR+PPPP+X//u//ZNttt5V///vf8uWXX4aUbLxuJgXTn33/brnk1YZLCUxQ7CtECwOIb731lmy33XYyYMCAmEg8gNkjjzyirvHss88KXrqNEtw7UVEdn1rwf5JVNFlFHiM1nnnmmYLKmpKS4sVOuz8OHGheoEOC3/wTpHJKQKqm1g9snOADaJVPDoikbi1SNC3kLWNSjR49Wi677DIlRfz3v/+Vl19+OeQx4X7MzMyUHXbYQZ564RH5cfnDctf0yAud952+vVzy4mYyes7XtS6HRPDkk08qle+JJ56IKvAAOK+++qoC3XvuuafOuectHy+XvbiV9J4c+frs3f7YTs4cuLXkFS6rNZ5Vq1YpoN9rr71k2rRpYiWeWuyJ2z/NB3Rwky48S2R6S9+qlBNgwv4/50CRilWuN2/KlClywgknyDbbbCO77767fPPNN7JhwwbXtpHsvOmmm+T0009XUgLH9Rlwixx0xnYydH745NBef+8kZ92xk0xZOEr2+/e/5KqrrqpzaWw677zzjmy99dZy5513RkXVQqVCwuGczz33nGBAd1Lv3r1ll113kjmLJ8oFA/aU3mPCBxFijJ674Vf5+sePZPPNW8kXX9QtOrZ69Wo56aSTZJ999pEFCxY4L2v/jwMHmgfosLja0kGxAxvTHkSO0j8rDZSWlspvv/2mJvNmm22mXN9INqgu0aDPPvtMTZ7c3Fx1Oibz4YcfLg89tDFlATUpreBvmbn++1ofVmFYVZYuxABhuB4xYoQCFvo4duzYOl0DeJB4UAUff/zxOlJJnQNC7OBcr7zyimy//fZy77331oClecicOXNUXNLDDz8s48ePV+CUkZEha8qyFag4x7OoYHStjPH169fLIYccomxlbtIMEs8555yjbDwTJkSmFpv9tNv140DzAJ3SzI3qjwkOsdzOfUzS09NVUN/mm28ubdq0kW+//dZ1gtXvtonk5OQowHnmmWdqTjFmzBg1Qd0kh5pGjo1LL71Urr32Wlm5cqXst99+cuWVV7qCCoBGrBDjGThwoPB/fQjwwmhOv73Ocf/99ys7z6JFi6Rr164KICK91vfff6/CDmbMcF+/PC8vTwH0HnvsIcuXL4/09LZ9AzjQ9EGnulRk/nHxkXL+AbL1Y7eTHbdrodSp119/XfLzox9YyGTENqQBBgni6KOPli5dukT0OPz0009K6iDw8Omnn5Ydd9xRFi5c6HoOrkUbpBSkEH1t18aOnfTv+eefV/anwYMHC1KgG7H/P//5j1x33XWydu1a1f799+tXPOyMM85QEk9RUZHbpZTh/oILLlDq7rhx41zb2J3R50DTB531I+IKONrus2TiddG/W/+c8YMPPlATJTs7u+Ya2IxIlUCiioR4y2PfQOWB8KThwndTS/R5X3vtNSWtIJGEaqfb0+aFF15Q/Xv00dAlJQAk1DiA+qOPPpJddtlF5s2rXxQx6ic8+frr2gZy3S++ATZAbrfddlPSnvmb3Y4NB5o+6OTckhDQkRk7iVTmRf2uoQbtv//+yutlTngAgMmqUyX8XhhpBZDhwzaSGakXuPS9CJvU0KFDlcRz3333hZR4kHDwfOFhI+bHS8LhWthtMC736dNHqV6dO3dW0hvF4OtDANe+++6rgi5DHQ/wIPGgalkbTyhORee3pg86cw9JDOiktBLJ/yM6d+mfszCBr7/+ern44tqrbWIbOeKII5TKU58LEpyHG3nJkiWCUZq3focOHcKeCukF4zOeKDf7DPuQoLADPfDAA2HPh5EawMOdXVBQIAcddJACrLAHhmgwatQo1ce///47RCtRqtahhx6qjMvYkkxAD3mg/TFiDjRt0KkqEmHyx9JoHOrcq1+L+IaEOuC9996TXXfdVebPn1+rGXYZ9hcX12/xON70uPJ//fVXdV48bEhNWVlZta7j/AeJB8mIAEKMy4CiJh34h/0Ho3EoCYdj6DtqHtINYDV9+nTVp1CpIPpa4b4JCjzssMOksDB0TWSMy+eee67svffeMnXq1HCntb/XkwNNG3Q2/JY4wAGMltxWz9tS9zAmH25g4lpMYuLjJm/Xrp25O+JtPFh4sjTx1mey+jEWP/XUU7LFFlsoqQSw4YPdB1WJwD/+D0VIFXfddZey3+DuhujPRRddFOow379hA0PawqMVjnCnE0+F5Ifny0o84TgW+e9NG3RWPJlY0Mm4MvI74nEEgACwOCcwIf1IKZ9//rnHkf52//DDDyr/acWKFeqAF198Uak6RFCHI4CJAEKkozvuuEMefPBB1ScA0k9MElHVhBV069ZNTXIAllwsXPTRIGxCGIvPO+88X6cjgPDUU09Vktfs2bN9HWMb+edA0wad5UMSCzrpl/m/EyFa8qZGTZk5c2adVhhnUa283MJ1DvDYgREXW45Oy8C2s9NOO/l2waMS4ZnSi/GhbvkBHLqD+oWkhEoFkWEPkKamRq+O8e+//66uQTa/H0LiQdJD4iHmylL0OGBBJ5RNpqG/RQl0CNpjIrqJ+tgfCLhrKAEaJ598cq3gQGxIqCUYVsMRfSN2R4PO7bffXkcqczsHYIlb/NZbb60ZH9u47p1SndvxfvdhUyLBlmxzvwC9bNky1Q9KjUQjZcVvX5t6u6YNOiuHJlbSyWxYrA5qwf/+9z8FBG4P4nfffacmLIbgaNCbb76pVAo9wZj0TDiMqySrehEGZNQx3OLYZoYMGaKMy0g+pnHZeTxARwY7qhUR1poOOOAAFUio/4/WNyBK2gepKX6JGCEScwErm6vll2uh2zVt0CkYk1jQWTogNPfD/EpQGy5kt4edycyb+5JLLgk5scNcos7PGH//+uuvmv0YiVF1QsWvUJaCIDxT4qIsBu70u+++u0aCqTnpPxu46PFY4Z4HgCBUSIAhVnTwwQcre00k58eLt/POOyuDvZu0Gcm5bFtp4oXZq8tEUrdKEPC0EFnzTr2fMWwKxKlgz3Ej3OYUav/www/dfq73PgCA9AFNGFXJiic+yI1Ii0DCQbox3eLYczAkY4vCsOzmBQOsABjTWEv1RIA0VsSqGhipQ0Upu12b1BDSTPAUur0E3I6x+5SGwu0AACAASURBVNw50LQlHcY876jEgE7K5iKFoQPS3G+JKMmFyUdhdi+7BgZfbCH1jdb1uvZXX32lpCsy0DUBbEhcTkM22ensJ3XBi1566SWVMkHmu5ZmaItKiLerb9++NYdivCYZVBuza36I4gZRyscdd5yyX0Ua1wTwYFxH1YpFPl0Uh5nUp2r6oJPTPTGgM3NXkcr62VqoIkjiJUXa3Qj7CqkQqD7RJt7iBPsR9KcJGw9veIBQ23Y+/fRTJWnh5iZ62IuQeHQpC+w9qIWoKNhy8LqZeVVIH6hp2ovldc6G7qfYPRIWWfmREu59QAdbl/VqRcq9je2bPuhs+CUhoDPn92sjzoPilhAVi7eKZEUvYnIi5cTqoWedLWcaBK551ChSFDBgY+cho92UXrz6y35UKaQYzoNEQ9wMAYCmJEfOFblS8SCW9SEI0K9b3+wTQEnZU/hky2KYnPG33fRBJ1gpsujsuAJP+oiAbL1lC5UPRWSulg7C3RLaXX755SqIzbSPmMcxSYjUPfvss32f1zzezzaSAMmPJqFO4J5noqFi9OjRIyIVg37rmssssYPBGqnBJCZypIXpzeMj2SY6mdggt+qCfs5DXBOpFXi2TFXUz7HNvU3TBx3ucOlCkZmt4wc8K4eqPCZczYjxiOOoTOEywFlgj2A0r3o2DAVPCi7maBuQnROBa5DTZRLqEXE4JJzWx5aEWqXPQVa36U7/448/lIfI3GdeO9rbpFuQJEsFQTcjt5/rUeEQb9ixxx4bNk/Nz/maS5vmATpSLbLsnviADgXD/lm2lomJ8RXXNqoFqgOxIqZKoR80AtFQmbCVhCLiYZAI/E6UvPIcySqaUuuzpLhuZLPzmqRcAJaaCE7E8AvokJLh9/r6eP2NC51zEHRo1lymtAZAFE5dW1oyq9ZYGNvqsgx9+oi+UVPpR0OSO1FxURWRePD0RUKV63KlNH1K7U9WqgQrvGOiIjl/srZtJqAjIqxUmXFNbAuzzztCpHLj0r/OG05uE5MVyQd7Aq5wbYBlAnfs2FGpVaEyofmNtZtwU3vR6rJMmZD3vryWcaXcM3tfz/Wwek7fTJ5ccLJ8vXSApBWOlXLH+t7vvvuuirPBNc+qDTolgrrGoYzcXv1iP5HABP5REhXbDiBGOQukN4zKTsM4NZ4zCifIiGX3ytMLT5XeKVt4jueuWXvJK+mXyd+r35SVpYskKP7WtkLVwygcqSfLHCcGf86BSz1U9HbFmsWyYfR7svy5qyWrz36yqF1AMjvU/qS3D0ha5y0l5+5jZfUnd0nx3L8kWOFeZdHsQ2Pabj6gw12pKhBJu1gtP1Pf9a7cymSUTQqIzNpTpCx0jg6qAyI5Gdy4mvES8bZFtWAbI3IoQqViwrvV/S2pypePc7oLa1f1mN7Cc3K6rfTZK2VzuX/OgZJdtKmcAyoeniSkHaQ0gI7+I6UhsdUnloY0CWw5jBOJhiRRJA3UE65hjiu3ZIE8PO9I6RUCaNzGwtj7pG4l72V3kSKPF4DJY0IECGJE/W0IYZ8ingmVzWmPC5aXyKr3+kna9VvLovYtZXGngBTcFJDKbgEJ3lr7U31rQEpuDsiaGwKiAKjj5pLZYy8pnj2qId1LqmObF+jA+mC5bJjXVzK/byVr/wpIfcGHxfZYepgVQnPHnyrB8o3Z2X7vLpIPcTgEquEVQtLRko/bOZjs1A1mgpqG6epglUzM+0AemntYREDjNmGRJD7KuVWKK9crgGESAQYE95kTSUcbm5HLbn029zEpGWu/fv1qdiPhkewJ8CDp8D/SzeeL+0nvlC0bPJ775xwgY1a/JtU4EzwI2w7SF6pdQwmpEGkHqUcFEAaDUjDhC8kZdJSSaACS0lsCIt39fQAgwGlZ54CkX7+VrHyjm1Ss3pQu0tD+Jur45gc6/3C6MPcHyfhxZ8n8LiCF4wICiLhJMc59tCuftHFZ4XlfbSar5ngHxvm5qYANb38mNxHGRMy6uXEBJEDAtPmgQvyc+2jEko0b4Jj7bpuxvTzywiAl6RD+77SzUP4CNQ8Q9JsWgJTDGHG5m8S5ARykqjsf6CF3zNilwWBjjoXtr5b0D6lukYvF9Z19M/vpdxsbjwog/O+Rsu7noUqFyukYkKpb/QGNFyABPmmoYz33lsoN7mur+e1jots1W9CB8ZVFC2XtgiGS9cseSmJZ/mtA1owKyIbRASn6u/Yn78+ArBwZkMU/BWThNy0lY2w76XL1YfLC85uWgIn0ZuK25S2LTYOqfdg6eOsTP4IdxcyGJsCOttqAWx2sllErX5CeKa2iPkmZqJe/G5D7H7pHuckpkO4kVnYgxcHp9na2438M6sQetW/fvo4RnULyeMoG3XunXDys4UsjOwGH/1mfndVPkQq9iDIWFEkLZVPzOta5H+AZfNHBCnDybghI0Kdk4wU4en/ZLQFZ3DEg2f0Plcq1S52XbTT/N2vQ0XcpWFUmBYvflaVjT5fMX/aRjJ92lYwfW9f6ZP68p2SPbCs50+6SNq23VcmNeD0whtYnshWgwYtjRv7SH2r5AjoYnCnvwFuYPCxsPmad4ZR1X0uflK1iAjh64j445zC56IqzVX+c0g59xV1MvJCbN66Gt8GgWlQPW5RTfURKYhmdE089Rh6ZeUJMxwI4Y2T2IoAV287w4cO9mvjbHwxK0azfJa3TFpLbuWHSjQYb87v8loBktA/I4gdOkeoy96V1/HU0ca0s6Dh4X1W2WiqK0qS8cGGtT2XJpnWx8by0bdtW2T2IOyGXR5fZdJzO81+WA6Z+jSnN6MZIBqy0ibcLsR/wIZBNFxdfUbpABsxsE9NJuhF4WsjFD7RR8TNuXhmkL/oXauUIguh0MKEen/6mQiBJraf33klJIxrsYvXdf+YusqzEvRIgEg7SWENtO+VL50lGtzayvHP0JBwTdNjGLgTwrHyrhwSrvO1Vms/J9m1Bpx53hMmC/YX1yAEIJBNiTtykAbfTk0aATcSPKE/FO9oiFZH/NPz7r+WZeWfGAXA2qjq3TAxI6wM3c83KJp0Bm49XBjpjJy4HAzJlVZ00adIk2e2greTmCbFRq9zA69H5x0gpXkwXYuUI1Fu+60srhnVRgFDRLfpSjgk+67oGJP2G7aQ0bVJ9u5qw4yzo1IP12FVIRSDoD08SBkgC+/yE1KPvYxBm3Si/xMRGDUOV2fPoFtJ96mZxAx0m7jWfBaTzDe1du0vaAqog43ISwXJOtdBsM/ih++WSV+MHOIylV0ormcECjC7EfT399NOV98nPC8F5CmJqUKtKIvBQmUASyTZ2IrxaOXcd7exG0v9vQaeetwgDKHYKXQsGtzIxLeEeVkpxnnXWWa4eKreuUH3vwAMPrPnpgUlHxRVwmKg3jw/IvidsqWxLNR0xNohNARBNrxt2nhtuuEEV6XLacjgUF/whJ+8hXf+KL+gwnqcWnGL0vvYmEeNIZn5rKeujg1UVsuShM2Rpp9ipVU5QKr45IGntA1I04xfdjUbxbUGnnreJQDkkFsAG4n/sARhGvQgjJYmUfjOTqTkDsLF6J7S8ZE7U3eNMQj+f43sFPCOhKdbFRNU2J/pKnAoq6G233ebqVsdAfmQnf9f2079I2hBAmFO8sQi8814h7QDyvBgiofJlCyTj5l0EtccJDrH6nzierA4ByX25s0jQXwR2JGOKVVsLOg3gLG5tEjR1CD0RtbiRydJ2EkCD0RTJxa/th2hlPCqsUw79vvI5XwARyQT02/baLwJy0kkn1QoS1GNkqWNibSh1oYn1rlCt8NI5ifF37dpVrvooMaDDmEmt8CIAEcM9Rcr8UuGU4bKow2ZSHmNbjhPAVnYJqODDxuTJsqDj96lyaZedna0kFwqaawKInGUh+I1aMXi5IiHUE6JbIQIB38vqkjDQYaLutV8bSUtLcx0CLmeM3Ug4BA+yDcC6EWUyjj3xvwkdy9C08z3jdlCRTzzxRBX9rV8obuMw9635/H7J7hg/KUeDDypW+k07S1Vh6BQas6+J3rag04A7gA0DlQp7hpkmQAEs9ml3OPk91KLR9h8/l0R6wNU8btw41bwqWCEvLDovoRN17+NbqKVw3PrP5NSlIhg/BdfJnHcjjM7/PmnbhI7lsfnHenqx6DMJuUSKkxfnh5Y9/T9ZcX38QQcVi8TR8uUL/XQzKdpY0GngbaAGDt4lU41gUlFZj7c/gX1EupqBfeEuSdAc60bhItfGWXKSmCh+1aFYtPtvuy3UcjRe/SdjHAmHT/fu3b2aKQnowAsiS0qN9ngemHOQFFaGLkVBuQpiqUIFP+pBZg88QvJvjD/oIPEgYRVMaWBQox5IHL4t6DSQyRiQecNTeNwk7AFkY19zzTWqtrApCZnt3LZRTziWMhI6tykZQOf0bm1U/hSSjNsHqU+DDoZYtzbsQ/08+OLYpG/4Baduo7aXjjdd5dlH+gnoMB7WHvMai97/d7sdLei4Pcwu+yzouDAl0l2seEA6hOku5+141VVXqf3aEOz3vAQPYsg01bFkAJ3z+/1LSXB4pagJ5PxQXEyDDgZ25+/8T9QviZ9n3Lh3QqW2rr9sKSefdbRrH81+o+LimSN73Nzv3B515dayIVGSTgcr6fidW02mHSUNCA6k5IMmJBvUIyYYoBQJXX311SoFwjymMliuCln5fZPHot30vG9UHR2nDYt+6rgcvHd4sqi3o1VDcxxEbgNI43O+SCjoDJl3hBRXuRdcM/vLPSX4cdasWebuOttLHjpd1nRJjHpF9nnJgvF1+pSsOwKoB5YaxgEmHAvUkSvFNlHKt9xyi1CCk9gVJIPU1FRfFyFrGynHWUKTDGmqAcYCTPyek4p8n3/+uYpPQgU0aenSpSpbfODAgaoqIPFFznWyeNaQGPr37y9UOPR73Vi0oxIh0qMfQs069dRTazL83Y6h1g2BgdqrFK9vXPRpHTeXqvzGU+4iEA7B3Rhs99XlAEmPxKXgsSJOB88HQAMI3XzzzWqyhasMyFlpi43ILYGU0qKxmIB+ztl/xi4SlGo18QBRZyxSp06dVI4YXiykPFQtSnWYhLGduCMAi3MNmLlrwsbzbpb7iqVmf/U2QEu/KUXiRet/f0PVu8GbFC/A4ToEI2b12V+qizd4dS3p9geIH7EUHQ7wRmTFSsqRsvSMJtIAsAHoyGK93/mNm5xoWALr3Ch13bcJm6SvZ1xV0yU8U8SxaCL3jGxzs3YzpUiZqGbZD50Coo9LZNwR1Rb9Egm+LG4YKtq8ZOF4VY6UuJl4gQ75V0hXSx85R4KV5X6Hk/B2AYxkfgoxJbynjaADFLai9jGLyGmvk+420cq41jESexHudyYv2dtuVFZVKP1St4s78PSY3lIm522KsuaNzzh1HA5ggi2HYElNACgeOIzpSHusEsoxZvH1uRtGxqWkhVOS65u6rVBTOhJiNQz6n5PjXi60Kn+NZPbaJ66xOmSyU+Ii75tHIhlKwtsGWDDMfBAS3qNG3AGMjjyYTz75ZJ1REPpPnhaqE29ON8IudOONN7r9pECMUhDtn2obd9C5c2ZrYSkbTdTWAUCHDRumVCXULTcpDskH2w5F3qkJjeQzceJEfRopqFylCsI7QSHW/3+79K6aPkSyQQkTknrNGtXm8as/u0fVQm5oaVK/ktJaylt03V5YZaIxUQBjJ6UarUG5YbcNTw1RuHhuzjvvPM+T8RvpDc78KwAFL4nTvU47jLRIT0hBu/5rG7nht3jGuLRwzVOiQDx9YkVS7DdexJpQPGN33HGHsnk5PVq/rXhKuke4ekVDQOnOmbsKRdDqQ++//74KCUAi9aKM7nvERdphJYn09i0kb/gTXl1J2v2B++67T9kg/Bg5k3YUCe4YhbzQ9/nwQOJ98spRwriMKsK6UpoAFlQUyn+aq4BOnz5dMNDijiejnWzurOxM2ThR45Ms+cT8E6Ssum5ZTEpAMA6A0CvHivFRBwjpj3gXKg06qby6WJ5beEbcpLcRy+7zzLly9s35P/eGlwqreHjRhj/ekkUdWkrhTbGz7bBsDbV0sm4/SKryQ0dVe/UzkfsDJCgSsOW33EIiOxvLawcrC6SieKmUbZgp+Ys/kfycD2p9ilePkYriHKkqX1unG9g4UDfUsiMiqpQpqzw47Tr6QCYsEgB2DohvMtAfeeQRJXGivpCFzWSlaiCRyU4auuj8mJe5YBmYefkjnZeu+R/QodKeacup+fGfDexTqF+khXhRdtEUuX3GjjEHnmcWnubVBd/7iTTnvjjDAfQJgpUVsvj+k1XJCaQRv6qS33YYj5Vadf3WUjjVfxa87l8yfAeodrfbbruFfHCSoaOx6gM1kdctfFSW/HWspP+4uyz6NqA+LE3Dmlb6k/ZtQNJ/2EWyfz9MVqb2kPL8jcFiTCrUCwyNmijRicvczMfSv+lvSnxSeRAXM/cASQAVC5WFScqHJYQXL3bX19eWL5HBcw+O2UTtNjkgI3NelmCwWne51jd2KaKwMRaHI2JzcFiw0KAb4T6fuvZzuWVS7KS3XhO2l2WFc90uH/E+SnwwJq/UluqSAkkfdJwCnmh6swCcVV0CktZpc1n368sR9ztZDgjoYK9Qb6tk6Ww0+1FdtkLWL3pU0oa3kqzvA7L8l4AUjA1I2UT3NbBY74rfVv0eUO0BpxVTO0rvm89TpUtRsTRNmDBBqR2m21z/pr+RZgCaZ599VjDmY3DlDUoRdoq9+ympsK58iTy94NSoSzz9UreVC/rvo9Q9N9DDG0XtHAzDpD1QfN2L8HCxmCAqJ2EDbkZYSl2Qw3RCp52kX+r2UQfS/uP2l9b7bylPPPGE8qR59dXvflRGQHTkyLpSIKoyRfWP2a+1TOvZVjI6tBSAB8DwK824tau8dSPgpN+4o6wd8bgEq72X0/E7jkS1C+CBaG7qVcX6CbJ41EGS8V1LtUpn1RR/C+3phfdoXzw+IDk/BGTS+wFJG8+qlZskAiYltXaJYg1F2H9QO5i4ANDLL7+svEGhjnH+VlCxWh6fH73lW26bsYMsyP9TZs2epQy/AIUu0aGvzdrdgCSJkKR5EJPjRaiegFOPHj0UqFIgy0nYrQDc4SOGS3bRNCEQsSHGYvPYB+YcLKuLc1Qf4TVpGNyfhhAvBGxsjN9J3FPUzs6dO0vRulWy7KlLVUnRldcHpL6BgywzTCY5kccFEz53XrLR/R/AXkAwW/MwJFeLrP1M1o/dUlaMDEhlhGCjQUd/V08NyJo/kH42k+CSu0Sqy2oeANIfmJCoTCbhJSTFoXfv3gpsABwkAW0PMtv62cYWh32o16unyd2z9qn3ZO02qYW8MP8CWVG6qS4L6iFL7eAmNiVhgheZwJTwwIsFaHiRDpZEHUONR33URNAkkxNV0oz2XVOWJcPSLpduE1vWezyDZu0pP+c+psqfcT2ABkmHflOCo6HeWuKtuL9INRASDquzYmgmElvb6/ht/a/DZN7Nu22Mqblh41rl4QCIGByM0RiMqZez7MmLpSJvibpWY/8TwIVLGYKGon+jYERxqsiMnX0tH6yBxc/3xiWJW4jk4r7cWKsWNYLJyqoRmshCZ70rHnzehthstAeIiVAfwn5EvZ7SshIprlovI5bdH/FEvW/6odLm8IB8M/zLOl0gxoY+UsEQiYf6QKhKQ4YMUW0pUMZE8yLKWLz99tvqZ4ywSD145aB27dopCYcYHqfRfczff8mubQMyeHrkhei/WHK7igFy2qN4xpHKUI0GDBhQJ2zBawxu++GFzjTnXlPsCz4Bqk4VsqS4WC444xTpf/SWsqDjFkryIagPQCGNwfyspvxoR9zhG8GGddBLFk2SYMWmF5pbfxrTvgAPLHaFJk9FU0Vm7hp1wKkFSqnbiKz9VLGSSTRo0CD1FqcgO+DA5MQbRe0dYm9Qp1CrWGcJY/T48ZFlCvNmJWObLHeTiLaduvYz+XLJ7fJS2oUqO50ER/15duEZ8k5WJxm54hnJKZomLFFMvA3LFmNfcRLnR+IhOI7scfrK8jKaGBPg4yRUDaQY/dZHuqBkKx9sOHj83FbUBJy53rnnnqtytJYWz1RLKL+X3UWeW3hmzTj0eCg9+vmSvjIp7yMprHQPvNR9o/A6wbDkyWlvof4t0m9ME7xABg8erO4tHku3nDnuK+0A3+rifMkf96ms/rC/LHvyUlky+NTan4fOkNyXO8na756SkoUTIu1So2gfQJdmAjRpIpt44RmxBZzphl2odCMIsMCcri+DdIBKpQ3EeD74jQcV0bxnz54q78orWtl5f/Ca4TlyiwR2tvXz/+TJk5XHzWs9LtQr3uT0GfuMSbzdkeqcRFGvc845p1aJC6Q7zkF8D6DpRh9++KFSXQCtWBF1rZG6zEJp9bmWXgjx4osvriPh6PMB1rrWtd7XnL8DlMVs8sQa1tNbxg108mderJZeQQphgmF0xF1sqhDYBPiNVUIhJAxc6Bg6/VC3bt2U6ua2ppSf451t8L6RhoGNRgOjsw0BjPSZEp5maQsmMO5zc+lhXmTUhTbVRsAV+w/n4FpeRIQ8Hr1ojc3tOkRGkysHkCKpIAFFQtxLVutAUmU8eIHdiPXRiGVykwTd2jeHfQGv2IkmM/iKFXEDG1PVOvawrVWUMaI1NgRnCRHq7ZD2YE4s7Cc6KdQEKPNesJ/ayxhlQ8UBmcf43cbVz9vfNOrqY0l0RDqh34ApwYwkdUJEX2NU/eyzz3Rztb450p1+vgA1ipOhZpASgYSti87XHCSi6g/Rh7/++svcHbNtJC/6jo0KUPRD3AMkQwCHmB3UUkDUactBnUTao3KAGWnu5xpNuU2gyRuQVw1NCOisn3yYeogBFaQHggH1Q40kAbg46yprDwv2DC81SwcjIl3o80XzAUVVwvhrThL6RZ0fwAY1i2hcpBgkHm0DQjoxvVioi/yuiXwzwIQ3P8egjqF6mfFN7Cd8g4kaL0LiIT0DiYf4KD9eLaRTQgaIGuf+ErcDmFLiwyT+J0jUDBw1f2+u202/RnL6xQkBHUndSuQf9zPiO25trZKgcvCW9KILL7xQeXacyZH8f91116lyEV7HNnQ/xciQUDCSakJVwnZhrvCAlEUgI2/xJUuWqCxyxoStijc+BmQSJAEv+sxv5lK92I5QycyQAiQlpKlEqCLPPPOMUoO4N14vYkCe/jI27pEppRJ2ghdYgxY8AFjNukOan839u+mDzsw2iQEdbEjrNtprkE54y+OlYhIiJWBA9iLULDxdZs1lRHreyKhVXsmkXueLZD+TBVewuTAgSwMDGixzbBIqI/uZWIyRLHs8NNg32rRpI/PmzVMTEU+R00uFtIeKhgFWEyoKqoop/ejfYv0NoNN3gBC7mgYP87rY4RgL0dhOuxdAiZqmVVPGiwrprLBonq+5bjdt0CnLSRDg/OPJWrGprg7qBQXNCZ1HkjDtH24PHwDDpNSFspAmkCpIFo014XXD3vTll18qdzzSB+5lN0LdIjselZDKiaeccoqK1EWyIz8JdUnbdZzHA05MVHhCrA58iTRswHnOhvwPsFMLCZWIQEINPEg4v//+u3oRUAdbhwCY10Id1iDKcbQjtMAJ1OYxzXW7aYNO3ieJBZ3sm2ueq9GjRyuDMiI3b0un0bGm4T8bPOh4qJA4sHVgF8JVHQs7jvPa/I9th0jp9u3bK/tTKOkKiYYx8WYHRAAPttkXqiA9UfCAFV47JiiBqvEan9uY2QdgEEAI6OqUiV9//VXZfIgtCnXfUCfxVGHDgQ8AqaW6HGjaoLN8SGJBJ/2yGo7zxkNSwb36wgsv1OwPtcFEx3gL8KC6RNtbFeraxNDQVz69evUK1VT9hrscANHHEEOkI49DHYxEp4/xcjuHOj4WvwE8SDyoWv369VMSDnYpt8A/5/W5V4wHILXkzgELOmZQX7S3DdCB/bibsYGY0bzut2XTXgy7PMTxciHrK6NqIOnwxvcyrOq2+pvFATWA+AEcjkOyAaDwHiVaytHj4JvxUzSN8WAg9mtnojgb6ih1qiy5c8CCTrSBxjyfATq8JbF98BATVOaHiIMhkhUXNvaReCblkpSqAUTnToXqM+MjbUEfQ/yKtkeFOo6oY31MvIHVq18ADq59vFSMCUAkjsdPACESEeMhrcSSOweaNujkfZRY9Sr7phquEwiHrQPJAZXJz1v9scceU9HMqFlENbsVfK+5QJQ3UKmwT2CDAvRCAR6Ag8uYycZbHnsO26iToQypSA/a2IxUxYRlwieSuD6Bf/SHZF36iAqIjYbQh1D9Y8UPxk8iK99mhHYix5Rs127aoFOWmVjQyd2UOY5qhScHFyoPMFnJoQj3OmoHniQIyYP/iRqONSGhoAY+/PDDKraG/pIP5Ua4jpEGaI9Nh/SF0047TdmgAFcCBL0AC9UREMYjh50LiSKediu38SCFErjJqhw68BF3uq4IQFkP7dUyjwecGDcGf4zNSHp487yqC5rHNrftpg063M2ZrRMEPMTpbMy8xp3Kmw8bAYF2iO3kMXkRahUTlmRO/WZFMsKb4szw9jpHffdjv2GtKhaX08RkYukcZ7Ai5R3YT1/xUuEyxtVMYCGxSNQUAijZ76zBzXiIYqbKgSZAi7ACt0mt28TqW0s4AA6Bf2S6O4n7R7yVW1IsdXWISta/ETEOWHsltTrP3Zz+b/qgs+jsxIBOypYiJRvrKLNaAis6UPQKwhUOeHgRwXi8MfWbVrfTrnOvFUB1u4Z8YwAmTsVM0SDtAU8OaoZJBMkBpkhtSGRMOqQaAiDZxtXMsQQKIvGYFQix36BumtHHnJ/zJcK2QzAfkhapDW6Aw7gBXeKVSIF44403TFYooMbDqO8Z34w71MoRtU7QjP5p+qBD9TjTuBun7cpZh4sEK9QDTGkDPCA6xgPvFRPbGSDI25aHn6hjDVDOZ5GYGN7GqF9aCnK2acj/uIgBGHMlS/pN5DCSCKDChCJmBSDVqQ3XXHNN9pcxAwAAIABJREFUrehi4nyovQOhMmHf4XjOy+QleI7/KQqmiahm1DTy1OJFSFwsfYz0yRg1aIS6Pktxk8RL4i2kq0RSYN8kIpiRjMxUD/P35rrd9EGnfHFCQOfC01orOwhuZADG+UBSX5dJa6osFEHH7sPKmF6GZvZj0MRwq7O8o/XwEl1MX92KuhE1zAQiSlnXNKYSIASIIrWYXi4C45iYOt+MqGSCBYljQZoC2FBXnMBJ6gd2Hi/QjdZY9Xl++uknJeFQNtWv/QU7FgXaGAPqFImreBmdcTzcW1JEkFr9nlv3qyl/N33Q4e7lPhLXejq5Y49W0bVMYKQSxHHe4ibxlsTDg8QCYcfgDU993XCE5IHxljdutOwfuIORTsh9MhMZzb4gCQAkSAU6x4jficBlrGb0MaCBxGaqZJmZmUq6AVQIH/CaiNiJsO2YgGz2IxrbgDdSGjlu2LDcUhtCXYe+UZQNTx0fr4BP4nXgDUZzSxs50DxAp6pAZN7R8ZN4CsaoCYNNA2DhoUSCIfZDE2oKv2G/gchyJpM7VLqBPpZvVmRgUlNWIRqEJIJqQ1lVp/Shz499gj5TAsJsQ/Y54zOlM7bx4DChzeBCVErOgbpl2nj0NfhG0gLcUFtiRYAANhzUQq32RnotgBoPFeMxwdU8D20IOdCqpvlbc91uHqDD3WWlytTtYgs8KVuIrNhUb5oyCcR7EF+DDQMVhIRI6rHwlmelBIyPxHNQJkLbCPw+jDzoTF5nhHNVsFIyCifKhLz35ZulA+XjnFtrfT5d3Ft+W/G0zNrwo+SV56jL0RfUPbeAPtzBGI2R2kjkJHbHtH0gHbm96VGVGJ+WnAAiJjnXYbyoHiSyOgm1EQmEa0LrypfKnA0/y+8rn5PPFvepNRbG9tXS/jJ+zTuSXjhOKihNG4IAS9RCzu9V0zjE4bV+QuXEQ8VyQ0izH3zwQa3f9T9cj3YkjQYry6UkbZLkj/lA1nx6j6x889ban7d7ydrvnpbCKcOlMq9plhFuPqDDE0CpiZTNYwQ8LUSyb6hZ/4o3nC7/yTaEhwfVAQ8N8SxINbzReeMSF1IfYhLj4mUyVQcrZcraz+TuWXv7XhGiV8rm8trc9rLNbgEVi+LsA0BBxT+kNdy/BDnSf53MiEqF+uBFeLG0Nwr7DsD70ksvqWJgADKgqUHJPMdHH30oW7cOyJtzb5A+qVv5Hs+gWXvIuDXvSGXQffUEjLrYllAVvdQ7sx9e29xTggfpPyERhDMg8bitAZafv0GOPfoo6XTs7pLZe1+1pExau40rPiztFBDzo9a3ardxJQiWnsl9ubNUrl9BXoZXVxrd/uYFOsFKBTz5E1pL3h8BqZpqFFOvh1eLpWfyxwRkzZ9bSXD5oyJVm2I7kF6wXTjryGA7wAZCQiAPKcZZJh9eqfoQx/HWfvTbTvLg3EN8T05zQTq2bx4XkNcWXCcrShfUdAPAoSQHBlNTNQSEiL/BcArghVId8HIhCSAt4cVDHdG2GurxIDnhTjeN4mvKMuW9jBvlxjH1X2b4gTkHqhUk9JJAgDKBf0hZjClSG04NU/7ZoO+Al1arcLPj+UNFNcuPsLb5htHvy/Sue6hlZXKvD0jBTQFhXSuvVT+rbg1I6S0BWXvDxuVo0jptIbkvdpCKlZnObjTK/5sX6Pxzi0rzxkjWr/tIzo8tpNRjGeFQbvbg9IBUTA5I7q8Bmf5xQJZOv13EWPObBxxbBm/BUKRXJAB8sH/g1Yn07VtYmSf3Tz2i3mDjBJ/bZ+yoVLOi4kIl4QA42i2ux0IgHIDKSgqkSiC5eBHeLqQkPFVISM5MctzpBBcSQJi7YrksL5knd85sHbXxPDj3UNlQvqKmpjHSiZctyWsMzv3YqAhsxIPoJGx0jBNVq7p4gyx/9kpBqmGNK8DEbcngcPvybwyoddFZ4bNw8re1njXn9RvD/80SdLgxlSXLJG92X0kfsZks+Tkg60dvBJJQYMNvhX8HZPmvAckYEZCcsefJdZcdolQjrUJxblbrZDKSO+VFGJKZaHhA8AYBPKhaxPMgHZnGV69zFFWuk8fnHx+1CaoBCJXr+ieOU2BhSji6H0gt2KYAJCZYqIxyeEE7pDnAxU2VIoCQ3y7sfaD0Ttki6uO5Z/qBstu+m2oa63HU9xs1EwmV+jlOYnwUnj94j50k5+5j1aqerNTpJdWEAxz9O5LRiusDknb9NrJ2BIs6Nl5qtqCjb1llcYasnHqdZP26n6SN2EIyvwvI0p8DsnJk7U/W9wFZ9G1A0n/cTXL+OkUKcn9Sp2DCkIw5ceJEfUq17AoAQgKgF5HigLeK4DhEdNIOMLyifgBYvEmRKLwkn6LKtfLConOjPkE18HT9KyCvfDVYLXbnNoYpU6Yo4yhRt+GIIEAmqVdKQFCCMnru19JlVP3VKd1vr++u3+0gS9emheuqr9+RYjGQm4GN5oHVZcUyts9xSp0qu6V+0o0GG+c3K4Cm37CdFE5vvAXCmj3oqIclWC2VpcukdN1UWZ/+gqyecausTLm51idv/oNSkjdeygozpLqq9hpJrNRJrpF+CE899VTh4yWtYMzkza6TGzkOACKpkhQCyj0Qx4KBlsAyt8n6YfbN0mN6/df69pqc5v7bZmwvWUVTzPlUaxv7CFJMqExyvFyMFe+OF+WWzhPWHjevHe3tHtNbyFuZ7by64Hs/xn9USzeDMScJVlVI7ivXS0aHllJyc3QBBwBiDfSV1wck/cadpCRtsu9+J1NDCzpRuBsYVClmzrIrGBixYSCluBEuYibhgw8+WPMzqhkxMNh1TMkGyQfjK5IPy7IQ94NqMzHvg5hOUHPCv5h2oVQFa4MsHcf9iycKtTBUrJAuWM5E1R6vmoHj6wtWyhuZ18RtPKNXDxMkq/oQ8Ty4+SnH4UUFk76WtI6t1PrkTiklWv9jG1rcMSCL7zleqovWe3Ulafdb0InSrSGnCLsFLvFjjjnG86zUqXELiyd2B8+Hs4g5XhEkHSQhVLYjjj9Q+o3bLW6TFAlh1MqhdcZz/vnnq6hoxst4vIgMdaQ2UifwVDkJ9zbXMIEultuDZu0la8qynN3w9f9vv/2mQNaZ7GkenH1HW1neueE2nHAAVd4tIIvat5T1v0cnONQcQ6y3LehEkcMEA2JYpcqcG1FLh+xy0gGchBsZ24dXBjmqGpLPhXfuE7cJqif/gJltZH3F8pouU54DW85TTz0lOrfMrd4OLmqAktgeXazctHNhlxo8t23cx/MjaTH1IIqMEZ7gDMbUp1o7/AnJ7FB/L1U4oHH+nncDatYOUpW/KWlW9yWZvy3oRPHu4DpG3XArZI4khN3HLZlSd4GIZAIFQ7l0b0vdIe6TFNvRzPXf624Kb3wibDWAELdDtLJp28GLg4SDNw5AJTAQ3phJoVlFk6VnSqu4jwdbVaREPBQvFK9Ss9Ul+ZLV999CHI4THGL1f/ktAeUdW/fzi5EOJ6HtLehEkf1kUBOFjCeKJWc0MelI5KSMpela17/rb4AJe48OONP79ffsDT/HfYJqaeedrE2LA+J5M2OQiOPBO2UGxZEQipRjxuUQSEh2vaaPc7onbDzT1tUuQ6H75PaNHY1gTu4vMVhuVJo2WdK6bCu4x2MFMs7z4oZfTETz4xcqA7Zbv5JxnwWdKN0VVAgMyPPnz1fV8wj/J7OchxQ1hFwjt7wm8/KoUORoEcFrGpR1m2+WDkrYJCVgDwMsUcpEI1O+0yQM6bj7GQMfDODkaJlEGggeOYCXcw2cGT/blAZP/f2+Slkxe+e9TRoHhvBQQZAb/nhLpTfgXXKCQyz/X9c1oCQsAhEbC1nQicKdYpKxUBwGZDwchNhTY4UKgbrEA4Zir7ek2QVKXWCQZmlhk6qDVfJ6xtUJAx0m66qydFXwCoM3tXdMwraD+5xSDqiJTFJT2qMtYIMxmeTQvLKchI7lmYWnSUW1e36WOS62yW9DAiWcwYtWvtld5VDFEmDczo2KRZpEVf5qr64l3X4LOlG4JQAEUcWkBWgi9oaSBgQOksEdCSExUGLCpMpguTBR9Js6Ed+pa0eoFT9x7TvtTgDKZZddpsaL6oU64iz7CehSGxpj+vQV3yV0LEPmHSHFVeHdzcRUoTqaZVXN+6K3lww5UwjccwOGWO8jzaJk4abgVN2nZP22oBOFO8PbHSOjueQIaghFuQiKI2o5EsJLhUHZ9JJQsuGx+ccmdKKOWPCkMg571dzR9YMwGHsZXCnzwNje/OPuhI7lgTkHSWFlaOkAFZfIcOJynADqvJ/ZA48QcqRiDTBu5yczvWDKcGeXkvZ/CzoNvDWoVqhVvOVNIt4GbxVxLAQN0s4vITkR7WvaEJIBdA65YuMyw4BKQz8HnB+7lAc/UmD7EQHZaqeGj0Pz4YcLAxZ0fD7gFnR8MsqrmXYfm0mP1Fehqh8Jn8TkUFWPOBW/BEARfEdGtC5Hmgygc0zHbVQgIPYbtw8xRnoSsqqCWxv29ejRQxINOnel7CtTZo/17CP95GXCvfMah7l/Qd+DZH3XxEg6WR2spON3bjX6dtgxKAblLMpNOU8C/QAf1CwKreO9ovC6X8KWgGqmPV6kIsQywdOPdLDX8YFa0pc5Fgzoen0swgb0+M02epv4nn2Oi342uZ8x6DaPzT9GSilj60Esq0MsknPFDo/msuypS1VOlJv6E8t9eMso9lW+dL5X15Juv5V0GnBLABG8GgMHDqw5i65MZy4uh+TC2tY33bRpmeGaAzw2MLridmZlUAgX87tZ1yfUDrLbPjup2sxuXdYhA8TssBopNi6v8qt4gY44Jv6RyBpw+B666DzBI+hGxFXhjWQhQEqQ+KE1n90r2FZiCTBu5yaplOTPqgJ//fQzlli3saDTAA4TXUsyZkZGhjoLwX14rJBsnEQhdVIHSBfw4zrneAzKTF4tIVHX2Jw48dy+7quAsk+51cPByEr0MStUaCLXCpuW26QFhFl54upPE2fX+XbpIN3VOt/EE2HsdsYi1Wlo7CiY/I0s6tBSKrvFF3jwmOUMPFKqSzdVrTS6lZSbFnTqeVsADgCGfBxN2CqIQ3EL7KMN8SmoHc71kfTxzm+8YUT16qVqKbYeT6Axr/V/gwKeeWEAKaqImUU+bdo0Vc6TfDQ3ogDW8T0TBzoL8t3Xkue+EmNFsflIqCxnpqTfuKNsiKMHK3hrQElXy5+7WqTaXWqLZAzxamtBp56c1ovJ6fWMSObEbkMypBdhA6KeMODkl1DLMCpDrPLw+Pzj4g48t0wMyN4nBuoELOox4Fam0LwpBWHjoRwH3jsWp3MSdXb+fcIOcuPY+APPw/OOdC3XQR9x+wOgXqqhcxz6/2BFqaoUSJH1hlYJdFOj3PYp1ap9QAom+E/p0P1N5LcFnXpwH48S4EG5UWJptFrltgyL8/STJ09WkbtuZUCdbfkfQzKTgMhmjjn64t3l1inxnajtvg3IJZdf6NY9FaFM8Jxe8cFsRG0h1E+vCXxTt65y+TvxHQvJq9PXfW12s2YbtY/cMHLnzBipmgZhNopm/iZpHVpKtKsFugEO+yihkXXHwWF6lXw/W9Cpxz3BToFLXJewQMUChEgMDEd4s8jFwuPll5AiUOUAnyuvvVTun3Jk3KSdWyYFZK/jW8i7775bp7tIK7iUkWi86IYbblDR2uZqD7otUuLex24uSFKmKhfL7SHzDheK2bsReXPkzIUqSuZ2nLlv2dOXqyLq9S3C7gUwzv0EIqZfv5UUz964QqzZh2TftqDjvEPBaqmuyJfqig21PsHq8pqWrMbJ8iO8DYcNG6bejHrN7ppGYTZYNvfmm292zTrHroD3C1sJtXgBGz56PfS0gr+lb+q2cZmolz+7s8oFQ2pxEhnkJLmGShFglU7sUqwG4SRUUZJHTx+4ZcxLrwJkfVO3lnksuuhCqL6kbkTyMnA5jSohmnb91rL6htgZlCnSTmzOsmcul2CFv/wxt74map8FnX84X7Z2tKyYOUgWjz5JskcdXueT8+dxsiKlp6zO+FBV+COZk8A/JBC8TH49UvpGU9icQDrT+MpvSEtIUBikmayUg6BMBF4ssy7vuNVvC6s2xFIquGvW3nJNl0uU8Rs3spOIxyHPystwTnsmMzYfbDtOQurjtzMvOFkGzzw0pmNBrcL750VUZwRATR57tQ25PxiU/IlfSlr7gKyNQbBg5a0b18LKHnBEo0ryNHnWrEGnqnSZbMh6U5aMPlHSvg1Izg8BtRwNS8ys+j2gFuRjUT4+rHHFUjUZ3wXk77dbyJw/b5W+3c6X7rdujKMxmep3+9FHH1URvmSl46ki7YFkSLK4KYyF/UcTS+AiHWkiQpnlgXunbBmTyYqL/O0vhipQcQsB0PVyxo8fr7vk+a2XoXEr84kqgzQ37P2n5epPYqNmAc7vZnWWsmpvtzIufJJzdXF9z8H4+IH7+X6nI2XetQGVBBotwzIlSokFyup3gJRmpfjoSXI2abagU7byG8n+7V+y6NsWsnpUQConB6R6akBYtdNr7St+Y5E9QChteEBSP91McmfWzgaP5DbzpsczRY1hKu9hkG3fvr2K+9HpD/p81OZB8jGTR4lSHrv6jahX3xs852DpNaCrKrxO/RunrQpbDhIOcTkYX/0Qya/EvjjVUKQk7CgYnDvceKUMmRu9hQO1FPhL7hOe3ir6rtcpiyRVxWvMBD5SR2iv3XeTpaM+kLROm6uSFw218VAcLKN9QHLuOU6qCtaocFGvPiT7/uYHOlUbpGBBP8n4rpWSZiqneIOMF/iwv3paQNb+GVDrZK2ceLoESzcGCPq94SR1PvTQQ0o9Q83CGEsAoReh3qDOYLQGrDQRVfvXqpcbtKSwnpxIBO9ldRFqF+P+JpgRQMCWZF6TxQBZCcKsCqj74/WNdwsV0ayKyDmRmLCPURqE+KXy6hL5KKdbVBbdu2/Of+TXFU+pUAOvfgF6LGscqri817HO/QAOIQ7UUSaNgvXH88d+JNn9D5HsDgEVwxNp8CBucbXkTOctZcWwLlKxIt152Ub3f/MCnWC5SNpFSlqpqCfYOIGI9dBLJwREZuwk4uEVMZ8K6tCw9CxSDWCDbYjlhYnxCUeoOagAzgJaHLehIleGpf+v3qrWnTPbyOwNP9Usz4KaAUiQ/4WEBThoop4OKQKR2LFoq1eG0OdBNQNwuAb2FJ1nRspHWsFYuXtW/YvQD110vqwtD5/rRtE0pCwcAg0hpD9KYACeLDNkklpe+PlrVI4UtW9YqRNVyemRMv9nvXOMxeRV8SlQywm7l0o1r9UYtpsP6LB205IBIilbeKpPTkCJ+P9F54lU5bved4zOJIJis2GS3XnnnSp7mcYEzyHFkJntZrDVJ2RSou64rbyg22QWTpIRy+6VR+cdHRaAAJo3M69T62gVV9Wuiod0AzCOGTNGFZqnz0QXs0Y3VQG91vXS/XD7Jl2Eqoh4siZMmKBsOZ07dxaM6qiX1CUyqaQqXybnfSLvZHWSQbP2CDueIXMPl6+XDpRFBWM986rM87ON5IgzwC1dw9nW63+OpbQJYRRKwvFoWJoxVfK+fFByBh2lUiZYOWJJp9qfnI4BtTJoxs27KO9U/pgPpKqw9r3xOH2j2d1MQCcosuql2IHNdENFy7yGZR7VA4D6wAN53333KamBcp5MMqeNhMZkXjMhSZwMRVTeA6D8SBlkUU/O+1h5bfDc6M+fq14SVmIIRayxTjIrxDioiohKBRBRw9ltDKHOp89DcXokJyQCJAMy8SHUG34LNa7Fxany16pXasahxzNhzXtKJQx3fefvqampSsLyKjjmbO/2Pyohq7miirJihF+qLimQgolfybrvn679+fnFRrtyp9+xNw/QKV8uMmvv+IAOAJT3vjKY3n777SoOBTCh2h71V0IR3isd5ezVjuJgqCTm2ulebRuyn6hcU+XAsN2nTx+lEpLM6TR0+73Wa6+9ps6BiqbVKY4lFwuQq+95/V5ftwM0UfcAO1I26kMAJrY4JCUkwlCAWZ/zN9Vjmj7oIHVkXB0/wJkekOWjWssWmweUQbFDhw7iFo3r9kBhFyBAjRIYXl4hDLyUvLjqqqtqGXfdzlfffUhbAKVJqH1MUFQIHbVLDE4kxNrt2K6oikhCpVNaQsViueJ4EEGLjEMn00Z6TSQcyl9gY0M9tOSfA00fdAr/jivgaDvQN6+frVyx/m/FxpZIQ0zKUDaTJ554QqUfmDV7Ir1OqPa6aqHZRttyqJRIRDZ2HeKM/L7dqTPE0si42Znw2IgYh0kANEvZxIMAbexrZpKq3+uiMqNiIuEQS+WXB37P39TbNX3QWdo/IaAjM3cTqQ6fi+X2gFHHJVTSITE7xLyYHiW389RnH6kJAIK5EimGbtzKJ554opqkqECoi6h5GH9DGb/pA7YO4noo/4lnh/ZXXHGF2mcG45EYisdM1yeqT//9HAOgm2klfo7RbQAp1iZD4gv1YtDt7XddDjR90Jl/bGJABy9Z4YS6HPexhwf70EMPVe50Mz7GPJRi76hZ0SbSMpiQFLLSxPpV7Pvuu+/0LqXakbjKfq8schrjkmaCku5g1hHCe4WbHFuOJoL0MFQ3OBVBn9Dlm7gc6uWQlmH2x6VpnV0sm4zxG5UK25qVcOqwyNeOpg06JGmmbp0Y0JneQmRN3cxsX3flH+mAZEgvgzEqCu5zJm80iTW6yGrXhJRz+OGHqzXJ9T79jcTTpUsXpQ6ymKAJkGz/9NNPyq5FSgflP5yEt4oxmpMfuxGG6lgR9hekRD9lSMw+0EcC/1B9dQ0l83e77Z8DTRt0CsclCHD+caGHKInp5xY9//zzClhMFUQfh9GZEqHUUI7mG5e3uClpIIkQPEdCpBth8CbAETc4wKMJ6YjJDeB4eYcIE6ANq2Zown2NOz1WRAItqmskXjJyqUhtINLYGfgXq3425fM2bdBZGafYHDNOx9zObNegZ4ewelb7JILZjTDkAjwAUDQI1YqJxXUhpBViguhDqGugDhI/hBSAqgX4cB4kFiasF6HqsJoGkpXZDoOzLuPhdWx99o8cOVKpg5HkWKFSUdiLOJxQgX/16U9zPaZpg87yIYmVdNJrL8BXn4eMyYhr17Sx6PNQEJ2AQyZTNAgpAHuHNgzjccKwi10mHCHxEPio171izS5AJRwh7XANEwjI+MZ2Ek0JDvc+AIerXgckhusbYIrdDACNtXE7XF+a0u8WdEzJJNrbUQAdHjbSD3Dvuon21FvGKBppzIzzIcZrRYkJXUidCYcaEqoqoHkOAAJVTIMOgY6mjcds69zGLoRap0uEUgIDz5i5TLPzmEj/pwgZ5zQTTkOdA5UQ6Q1QJ1k1mgAY6rrN4bemDTq5jydW0sm4IirPEBOAN3T//v3rnI9gOtITwqVP1DnQsYOJhV0GrwyE5IEE4qeWMxOSeBXqAJ111llKHcFWgx3Iz2TFWI40p+v2pKWlKTUokix2x3Bq/Yv9BjURj6AfQkIDCAEpZ5E1P8fbNqE50LRBZ8MviQWdJf1Ccz+CXxHv8fSwmJ1JqF9IQV52H7NtqG1c8KecckpNE1zcxNaQFR+OsOEQwXzjjTcKKp/OpGffe++9FxZ4AFWCBpHYdCQ24EXhsmgQ4Icr3nTPe52XvlDXGcChDKvuj1d7uz9yDjRt0KkqFEnZLHHAs6p21nTkt2fTEUgM1N9hATuCA01CJUISisQjYx7Pmx0jsJ6ULMOCxyqc9IT6RHkKvE3YcExjM652IoyRfpj04VQtagkR5QxIQUgYHOtMlTD77XcbDxp8c/MCmufAloUnTgOO+Zvdjh4HmjbowKc5ByUGdFJaieRHN4+IiUxUsFPNYmLiXalvhDLrdXM8uVEAB/lReq2tUI+aLsBFVUD65iT6RdwPqlOoAEJ9HCoNahnVBbUER/3phhCqGmDmtpqFeV4AhzIX2HAYl5VwTO5Ed7vpg05mh8SAzowdRMq9F96r722k4iDelB9//LHWKfTqoqgHkRCTC0kA1QrgQKUgyjiUPQWphRws+oE72XR3O6+NuoXrHEmKyRxK4iG2hyhl0kCQ2jg3OU71leDgBdnspF+EIozwqJeA06effhqqqf0tChxo+qCz9uPEgE72DTGpY4uaRW0bKveZ6gIpChh+mbiREOdg5QlifiBqwxD7E8obhvEaiYSIYj8gx7kARQzVoeJvAEDKTWiDL6U1SKGor7saYIQnbgXhNY90HhjR3cThhAJFfYz9bhgHmj7oVBeLzD04rsBDoffWO22mSlSQrlDfN7XXrWWiYOilXo8mJAokD6oTRkLac4RqhZTD254+uxETEnDjOhSQN9MX3Nqb+3DBY2hG4kGK8prcAAyAhssdNz5gYOZ8mecMt426RF+1K97ZHj726tVLjdmP+uc83v5fPw40fdCBL0XTRFI2jxvwBJfepVaJxCDJmxb7iHMVhPrdrk1HEXdCNjhF0jWRvoDBNBLCjkJdGEChbdu2yuXtJb2Q58WYKM3p1SbUtQEaSrIi8YRyReO1wohMHSJULNS/SInMdnjvVRUQ6evKK69U4QZeIBvpNW17fxxoHqBDfeTsrvEBndn7i1QsV9ynMh6JhVQD1KVKKYfg9Zb3d8s2tuIcDz/8sErGRMqBsMmQQqC9UOwrrFwjq8syan10wXIkFaQK2gMCgIGbLQeVDrc4XipAKpQNZ2PvvP8CbthPKNhFrWc3XhAzhG2HKoMkjdJHXcN4bfmSWmNhbPkVq2pdEAM2xdCOO+441/Mj4aDuYeD++OOPw7r0a53c/tNgDjQP0IFN1LaZE2M1a2ZrkfIVrjeFwlfYJ5hMZCujRkTDQ4INBBWByQs43HhLFznshH1l+LJ75eF53mue90xpJYNGHi1HXbWjpMyeJCeeeIJKPXB2nnMS+IdUhVvczUvlPCbc/0x6jMsAsVcAIdLXQQcfKGnZ8+SEa/eQO386SvqmbuNZnP1HKmwBAAAJKElEQVTBuW3lq6UDZFVZuvwxZqRSmTBIO4nwAK4N4BAaYCn+HGg+oANvy9JF5h+n1qwKtaierv7n95sF+GTGziLrfwhpPMZGQdEr0g2YxIj3XqUr/D4KU6dOVZP3i28+UQvv3T3hULl5vP+VMllu9+4Z+8sZDwTkl/Ff1Lks6gmqDvYYpJRoEdIZ7nT44BZAmLJwnJx5XysZOHVf6ZmymSfY6DW79Hef1K2l18i95IgOAVmZV9t7iEpIKVhURCS6aIB+tPjRnM7TvECHO1tdLHlTzpCs71tI8fjQK3qGA53ySQFZ+nNAlv6xnwRL0iJ6bh555BEVYUykLEF02GhCeYy8Ts4aUT3v6iiXvOofaPQEdX4jSbBiaGWwXElNJHxi+EXCiSbg6LGgBjF2Ipd1ACGLB07K+0j6pW7rG2ic49D/P73gFMktna/W8kLC0YDjJ7VD99F+R58DzQ90wJ3yPMlb8KhkfL+lLP8lIGUTjSVkfCR9ssDeypGs7tlScqd0lIrCBSElHK/bRmQxC+3hYUGaoAymuWyw13Hm/qlrP5f+M3Zp8ATVE5VVPoemnS8ff/2OkghICfCTCmH2KZJt1LV+/fqpa73+7ksyLP0y6ZWyRdTG0y91Oxm17GWlUiHhADhWwonkDkW/bbMEHc3GsjUjZenfZ0nG99spiWXdXwEl/QBCFZNqf0omBKRoXEBWjAxI+vCWkj3qv7I+c5gEq+pXB1n3gW/EflIciI/B5oOHhwp3oSQfJJz5+aOkd8qWUZugGnj4PveJgFx48fkNMhqbYwy1Dai163CdnHZvw6U1cwx6+5ZJATngnC3ks89t4F+o+xCv35o16MDkYHWZlBfMl7y5gyTz5zaSNjwg6SMCkuH4sH/RtwFZPOE6yV85QaoqvItT1ffmUefl7bffVioNHhvKSrgtIcz5WclzwMw2MQEcJmu3KQEZOvdipWrVdzx+j6sKVspbCztLt8mxAR3G02PSFjJr7U9+u2TbxZADzR50nLwtz58rxSt/ksLc72t9SteFXhHTeZ6G/E+1Omw+VNQj1gRbBMmXWvIpqFwlQ+YdHjPA0RJCj+ktlI2nIWPxc+z0dV/GTGLTY+H7gTkHqTXf/fTJtokdByzoxI63DT4zhlYSHjG0UjOHIMNly5fKW5ntYw44erLeNmMHYXniWFFZVaHcMWOnuI3n+UXnSHWwMlbDsef1wQELOj6YlOgmGJyJ8yHfardDWkn3ibGx42igcX6/mnGFVBFgGWVi8n+QfVPcAIdx9U3dVhYWRJafFuVhN/vTWdBpZI/AI+PPiuskZaLeNmN7WVKcGnVOrS7LlIGz9oj7eABRS4njgAWdxPE+4iuvK18iuLSdkkjs/28ho1Y+H3F/wx0wKe9DwW4U+/7XNlD3Smkla8oyw3XP/h4jDljQiRFjY3FaAvfiPUH19Z5e8H9RH9ILi85J2Hh+XfFk1MdjT+iPAxZ0/PEpCVoF5eOcWxM2SXunbCEV9Vyb3Y15FdWl0idGMUYaKEN9D0v/nwSl2q1rdl+MOWBBJ8YMjtbpiWV5Ke2ihIEOEzizaFK0hiOLi1MTOpYn5p8gZdXhi85HbcD2RDUcsKBTw4rk3qgMlsnj849P6ESdmPdh1JiUsu6bhI5l8Ny2UliZF7Xx2BP554AFHf+8SmhL1JHH5h+b0In6ws/dVXY2GdoN/bz0020JHQuBgoWVqxN6T5vrxS3oNJI7nwygc8gVgZoVPPVKnvX9PuD82h6lUPaXWPxmQSdxD74FncTxPqIro149ueCkhEoHZLRHi2au/yGhY3lw7qFSVLk2WsOx54mAAxZ0ImBWIpsSvfty+qUJnaiLi1OixoJlJXMSOhYAvJyi/ZbizgELOnFnef0v+NniPgmbqBTVorhXtIi0CiKdY6E6+TnnG5nXquJe0RqPPY9/DljQ8c+rhLckgtfPhIpFm6Fp50V9/K9mXJ6w8fy56uWoj8ee0B8HLOj441NStFpfvkz6pG4V94lKqsKfK1+KOg8m530q1GiOBUiGOieFz/LKcqI+HntCfxywoOOPT0nT6qMERCXfPmNHwQYTbcorz5G7Zu0dd9B5O6tjtIdizxcBByzoRMCsZGjKEit3ztw1rhP13azrhYLp0SbSEL5YEt94HeoDZRVNifZQ7Pki4IAFnQiYlQxN8WJ9urhX3EDnntn7qgX7YjX2osp1cv+cA+M2HgqgRdMgHiu+NOXzWtBphHe3rLpQHpx7SMwnKracCWvejzmHZq3/XkgoDWWHicZv98/5j5RW5cd8PPYCoTlgQSc0f5L216XFM2VQDAtgscDdp4t7CommsSZUt2+X3h3RonqRghB2qbSCv2M9FHt+HxywoOODScnZJCgAz50zW8dEQvh8cd+4ln7AvvP98sHSPQZFvajBnF001cblJMmDbEEnSW5EfbuxrHi23DfnP1EDHpbl/SX38bhIOM4xI/Hgmo/G6p5aEho4c3e1XI/zWvb/xHHAgk7ieB/VK3+U0016prSqN/hgv2EdrYzCCVHtV31OtqR4hgyctXuDSpnCizcz21nppj43IMbHWNCJMYPjdXqq+s3N/01ez7gqYuC5b/Z/5PeVz8u68qXx6m7Y6+RXrJS/Vr0ig+e0jXg8L6ddLLPW/2CLdIXlcmIaWNBJDN9jelUm7NdLBqjF5VhtAbtP7U8bwRVOJcLUdcOTeh2o6mC1zNnwi1Be9J7Z+ylprPZYWgsqFG537FA20jimj1ZUTm5BJypsTM6T4HlaW75YVpYurPUhwLAxlnUorlovq8vSa42FseWVZdvYm+R8BF17ZUHHlS12p+WA5UCsOGBBJ1actee1HLAccOWABR1XttidlgOWA7HigAWdWHHWntdywHLAlQMWdFzZYndaDlgOxIoDFnRixVl7XssBywFXDljQcWWL3Wk5YDkQKw5Y0IkVZ+15LQcsB1w5YEHHlS12p+WA5UCsOGBBJ1actee1HLAccOWABR1XttidlgOWA7HigAWdWHHWntdywHLAlQMWdFzZYndaDlgOxIoDFnRixVl7XssBywFXDljQcWWL3Wk5YDkQKw5Y0IkVZ+15LQcsB1w5YEHHlS12p+WA5UCsOGBBJ1actee1HLAccOXA/wPDKb4TnSivxwAAAABJRU5ErkJggg==)\n",
        "\n",
        "2) La función Softmax se utiliza para convertir las salidas de una capa en probabilidades que suman 1, lo que ayuda a facilitar la interpretación de los resultados. Al generar probabilidades, no es bueno para problemas de salida binaria (dos opciones) porque se va a los extremos, pero para clasificación multiclase (como el ejercicio que tuvimos que resolver) si es útil. A cada salida se le asigna una probabilidad de ser la correcta y de alli se mide la confianza para el modelo. Esto es útil cunado queremos saber si una entrada pertenece a una clase.\n",
        "La diferencia con la funcion sigmoide que es lo que cambiaria la forma de salida del modelo, es que en esta primera se le asigna a un resultado un valor entre 0 y 1 de ser la correcta. Por otro lado, como dijimos antes, en la función Softmax, todos los resultados reciben un valor porcentual que suman 1 dependiendo su propabilidad de ser o no la correcta\n"
      ],
      "metadata": {
        "id": "GwENuim529kh"
      }
    },
    {
      "cell_type": "markdown",
      "source": [
        "Estructura de la Red:\n",
        "La red neuronal es como un cerebro artificial que puede aprender de ejemplos. Está formada por \"neuronas\" interconectadas organizadas en capas: una capa de entrada , una o más capas ocultas ,donde ocurre el procesamiento,, y una capa de salida ,donde obtenemos los resultados.\n",
        "\n",
        "Función de Activación:\n",
        "Ponele que cada neurona en la red es como un interruptor de luz. La función de activación decide si la neurona debe \"prenderse\" (1) o \"apagarse\" (0) en base a la información que recibe. En este caso, se utiliza la función sigmoide, que convierte cualquier número en un valor entre 0 y 1. Si el resultado es cercano a 1, la neurona se activa completamente; si es cercano a 0, está apagada.\n",
        "\n",
        "Forward Propagation :\n",
        "Es como el proceso de pensar. Los datos de entrada viajan a través de la red, pasando por cada neurona y sus conexiones. Cada neurona realiza ciertas operaciones matemáticas ,como multiplicaciones y sumas, y luego aplica la función de activación. Así, la información se propaga desde la entrada hasta la salida, y obtenemos un resultado.\n",
        "\n",
        "Back Propagation :\n",
        "Este es el proceso de aprendizaje. Después de obtener un resultado, comparamos este resultado con el resultado esperado. Si hay un error ,diferencia entre lo que la red dijo y lo que debería haber dicho, el sistema ajusta las conexiones entre las neuronas para reducir ese error. Es como corregir errores para mejorar el rendimiento futuro de la red.\n",
        "\n",
        "Gradiente Descendente:\n",
        "Pensemos que el proceso de ajuste de las conexiones entre las neuronas para reducir el error es como encontrar la cima de una montaña en la oscuridad. Gradiente descendente es como encontrar el camino más rápido para llegar a la cima. La red te va diciendo qué tan equivocada está y ajusta las conexiones en la dirección que reduce más rápidamente ese error. Es un proceso iterativo que se repite muchas veces hasta que el error sea lo suficientemente bajo."
      ],
      "metadata": {
        "id": "ENeucgRvf4mU"
      }
    },
    {
      "cell_type": "markdown",
      "source": [
        "Donde estan estos ejemplos:\n",
        "\n",
        "Estructura de la Red:\n",
        "Se define la estructura de la red en esta línea: synaptic_weights = 2 + np.random.random((n, m)) - 1. synaptic_weights representa las conexiones entre las neuronas en la red.\n",
        "Función de Activación:\n",
        "\n",
        "La función de activación sigmoide está definida como sigmoid(x) = 1 / (1 + np.exp(-x)).\n",
        "Forward Propagation (Propagación hacia adelante):\n",
        "\n",
        "La propagación hacia adelante ocurre en el bucle for iteration in range(50000). En cada iteración, los datos de entrada (input_layer) se multiplican por las synaptic_weights y se pasa a través de la función de activación sigmoide (outputs = eval_NN(input_layer, synaptic_weights)).\n",
        "Back Propagation (Retropropagación):\n",
        "\n",
        "La retropropagación ocurre en este código:\n",
        "error = training_outputs - outputs\n",
        "adjustments = error * sigmoid_derivative(outputs)\n",
        "synaptic_weights += np.dot(input_layer.T, adjustments)\n",
        "Aquí, se calcula el error entre las salidas reales y las predicciones, y luego se ajustan las synaptic_weights para reducir ese error.\n",
        "\n",
        "Gradiente Descendente:\n",
        "El gradiente descendente se aplica en esta línea: synaptic_weights += np.dot(input_layer.T, adjustments). Aquí, se ajustan las conexiones (synaptic_weights) en función del error y las entradas (input_layer) para minimizar el error."
      ],
      "metadata": {
        "id": "x1auNrXoha-2"
      }
    }
  ]
}